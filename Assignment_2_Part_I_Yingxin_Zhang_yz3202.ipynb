{
  "nbformat": 4,
  "nbformat_minor": 0,
  "metadata": {
    "colab": {
      "name": "Assignment 2 Part I_Yingxin Zhang_yz3202.ipynb",
      "version": "0.3.2",
      "provenance": []
    },
    "kernelspec": {
      "name": "python3",
      "display_name": "Python 3"
    }
  },
  "cells": [
    {
      "metadata": {
        "id": "Zf4TF64gpnEG",
        "colab_type": "text"
      },
      "cell_type": "markdown",
      "source": [
        "## Part I Warm up with the tf.keras Sequential API"
      ]
    },
    {
      "metadata": {
        "id": "_r2Wik-QpqsI",
        "colab_type": "text"
      },
      "cell_type": "markdown",
      "source": [
        "### 1) Linear Model"
      ]
    },
    {
      "metadata": {
        "id": "PobF-AjxpoYO",
        "colab_type": "code",
        "colab": {}
      },
      "cell_type": "code",
      "source": [
        "import tensorflow as tf\n",
        "import numpy as np"
      ],
      "execution_count": 0,
      "outputs": []
    },
    {
      "metadata": {
        "id": "Tt7RbJUjptpV",
        "colab_type": "code",
        "colab": {
          "base_uri": "https://localhost:8080/",
          "height": 51
        },
        "outputId": "3e93f563-595f-4a7a-d35f-9af81ea3f6a1"
      },
      "cell_type": "code",
      "source": [
        "mnist = tf.keras.datasets.mnist\n",
        "\n",
        "(x_train, y_train), (x_test, y_test) = mnist.load_data()\n",
        "x_train, x_test = x_train / 255.0, x_test / 255.0\n",
        "y_train = tf.keras.utils.to_categorical(y_train)\n",
        "y_test = tf.keras.utils.to_categorical(y_test)\n",
        "\n",
        "Linear_model = tf.keras.models.Sequential([\n",
        "    tf.keras.layers.Flatten(),\n",
        "    tf.keras.layers.Dense(10, activation = 'sigmoid')\n",
        "])\n",
        "\n",
        "Linear_model.compile(optimizer=tf.train.AdamOptimizer(0.0005),\n",
        "              loss='categorical_crossentropy',\n",
        "              metrics=['accuracy'])"
      ],
      "execution_count": 2,
      "outputs": [
        {
          "output_type": "stream",
          "text": [
            "Downloading data from https://storage.googleapis.com/tensorflow/tf-keras-datasets/mnist.npz\n",
            "11493376/11490434 [==============================] - 0s 0us/step\n"
          ],
          "name": "stdout"
        }
      ]
    },
    {
      "metadata": {
        "id": "cK7gs8qZpx5W",
        "colab_type": "code",
        "colab": {
          "base_uri": "https://localhost:8080/",
          "height": 204
        },
        "outputId": "b864a2ff-c360-491e-e28f-30e813a3734a"
      },
      "cell_type": "code",
      "source": [
        "Linear_model.fit(x_train, y_train, epochs = 5)"
      ],
      "execution_count": 3,
      "outputs": [
        {
          "output_type": "stream",
          "text": [
            "Epoch 1/5\n",
            "60000/60000 [==============================] - 2s 38us/step - loss: 0.6225 - acc: 0.8531\n",
            "Epoch 2/5\n",
            "60000/60000 [==============================] - 2s 37us/step - loss: 0.3399 - acc: 0.9080\n",
            "Epoch 3/5\n",
            "60000/60000 [==============================] - 2s 37us/step - loss: 0.3070 - acc: 0.9149\n",
            "Epoch 4/5\n",
            "60000/60000 [==============================] - 2s 36us/step - loss: 0.2911 - acc: 0.9196\n",
            "Epoch 5/5\n",
            "60000/60000 [==============================] - 2s 36us/step - loss: 0.2814 - acc: 0.9218\n"
          ],
          "name": "stdout"
        },
        {
          "output_type": "execute_result",
          "data": {
            "text/plain": [
              "<tensorflow.python.keras.callbacks.History at 0x7f74b88af9e8>"
            ]
          },
          "metadata": {
            "tags": []
          },
          "execution_count": 3
        }
      ]
    },
    {
      "metadata": {
        "id": "CvkhN1jIp3If",
        "colab_type": "code",
        "colab": {
          "base_uri": "https://localhost:8080/",
          "height": 51
        },
        "outputId": "3b7786e9-4d20-4898-cc48-69ce907822a6"
      },
      "cell_type": "code",
      "source": [
        "Linear_model.evaluate(x_test, y_test)"
      ],
      "execution_count": 4,
      "outputs": [
        {
          "output_type": "stream",
          "text": [
            "10000/10000 [==============================] - 0s 23us/step\n"
          ],
          "name": "stdout"
        },
        {
          "output_type": "execute_result",
          "data": {
            "text/plain": [
              "[0.27315028735995295, 0.9241]"
            ]
          },
          "metadata": {
            "tags": []
          },
          "execution_count": 4
        }
      ]
    },
    {
      "metadata": {
        "id": "aZIu6jApp8bH",
        "colab_type": "text"
      },
      "cell_type": "markdown",
      "source": [
        "### 2) Deep Model "
      ]
    },
    {
      "metadata": {
        "id": "Z0AsQpT6p4k6",
        "colab_type": "code",
        "colab": {}
      },
      "cell_type": "code",
      "source": [
        "Deep_model = tf.keras.models.Sequential([\n",
        "    tf.keras.layers.Flatten(),\n",
        "    tf.keras.layers.Dense(512, activation = 'sigmoid'),\n",
        "    tf.keras.layers.Dense(512, activation = 'sigmoid'),\n",
        "    tf.keras.layers.Dense(10, activation = 'sigmoid')\n",
        "])\n",
        "\n",
        "Deep_model.compile(optimizer=tf.train.AdamOptimizer(0.0005),\n",
        "              loss='categorical_crossentropy',\n",
        "              metrics=['accuracy'])\n"
      ],
      "execution_count": 0,
      "outputs": []
    },
    {
      "metadata": {
        "id": "SCDB7-JIp9Uj",
        "colab_type": "code",
        "colab": {
          "base_uri": "https://localhost:8080/",
          "height": 204
        },
        "outputId": "5ddc9803-0cf7-4bc9-f944-0888ff0db412"
      },
      "cell_type": "code",
      "source": [
        "Deep_model.fit(x_train, y_train, epochs = 5)"
      ],
      "execution_count": 6,
      "outputs": [
        {
          "output_type": "stream",
          "text": [
            "Epoch 1/5\n",
            "60000/60000 [==============================] - 15s 243us/step - loss: 0.4271 - acc: 0.8716\n",
            "Epoch 2/5\n",
            "60000/60000 [==============================] - 14s 240us/step - loss: 0.1903 - acc: 0.9431\n",
            "Epoch 3/5\n",
            "60000/60000 [==============================] - 14s 237us/step - loss: 0.1334 - acc: 0.9599\n",
            "Epoch 4/5\n",
            "60000/60000 [==============================] - 14s 235us/step - loss: 0.0986 - acc: 0.9700\n",
            "Epoch 5/5\n",
            "60000/60000 [==============================] - 14s 236us/step - loss: 0.0756 - acc: 0.9767\n"
          ],
          "name": "stdout"
        },
        {
          "output_type": "execute_result",
          "data": {
            "text/plain": [
              "<tensorflow.python.keras.callbacks.History at 0x7f74b79609b0>"
            ]
          },
          "metadata": {
            "tags": []
          },
          "execution_count": 6
        }
      ]
    },
    {
      "metadata": {
        "id": "3aT1DgqxqBRF",
        "colab_type": "code",
        "colab": {
          "base_uri": "https://localhost:8080/",
          "height": 51
        },
        "outputId": "1df384ae-41bb-4d8f-f89b-2bf479bf26a6"
      },
      "cell_type": "code",
      "source": [
        "Deep_model.evaluate(x_test, y_test)"
      ],
      "execution_count": 7,
      "outputs": [
        {
          "output_type": "stream",
          "text": [
            "10000/10000 [==============================] - 1s 78us/step\n"
          ],
          "name": "stdout"
        },
        {
          "output_type": "execute_result",
          "data": {
            "text/plain": [
              "[0.0823746071472764, 0.9746]"
            ]
          },
          "metadata": {
            "tags": []
          },
          "execution_count": 7
        }
      ]
    },
    {
      "metadata": {
        "id": "BZchkphI5x6B",
        "colab_type": "text"
      },
      "cell_type": "markdown",
      "source": [
        "## Evaluation"
      ]
    },
    {
      "metadata": {
        "id": "zm_Bk2Hb7LQW",
        "colab_type": "text"
      },
      "cell_type": "markdown",
      "source": [
        "**Linear Model**: It has one output layer with 10 nodes with the sigmoid activation function without any hidden layer. The test accuracy for this linear model is about 0.92.\n",
        "\n",
        "**Deep model**: The deep model that I built has 2 hidden layers each with 512 nodes and sigmoid activation function. The output layer has 10 nodes with sigmoid activation function as well. The test accuracy for the deep model can reach 0.97."
      ]
    },
    {
      "metadata": {
        "id": "AsxLpjXu7_gI",
        "colab_type": "code",
        "colab": {}
      },
      "cell_type": "code",
      "source": [
        ""
      ],
      "execution_count": 0,
      "outputs": []
    }
  ]
}