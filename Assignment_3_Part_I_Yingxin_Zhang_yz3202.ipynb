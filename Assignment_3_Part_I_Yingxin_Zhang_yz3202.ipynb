{
 "cells": [
  {
   "cell_type": "markdown",
   "metadata": {
    "colab_type": "text",
    "id": "3MA2k7mUCHz0"
   },
   "source": [
    "Loads the QuickDraw dataset. Demonstrates reading the original files, working with the data as a sequence of strokes, and converting those strokes to images. Also writes a dataset to disk in a convenient format."
   ]
  },
  {
   "cell_type": "code",
   "execution_count": 1,
   "metadata": {
    "colab": {},
    "colab_type": "code",
    "collapsed": false,
    "id": "h3jfQ3KJOnAb"
   },
   "outputs": [],
   "source": [
    "from __future__ import print_function\n",
    "\n",
    "import matplotlib.cm as cm\n",
    "import matplotlib.pyplot as plt\n",
    "import numpy as np\n",
    "import functools, itertools, json, os, re, textwrap\n",
    "import tensorflow as tf\n",
    "\n",
    "from PIL import Image, ImageDraw\n",
    "from six.moves.urllib import request\n",
    "from xml.dom import minidom"
   ]
  },
  {
   "cell_type": "markdown",
   "metadata": {
    "colab_type": "text",
    "id": "B3e-XusiPh_5"
   },
   "source": [
    "# Get the data"
   ]
  },
  {
   "cell_type": "code",
   "execution_count": 2,
   "metadata": {
    "colab": {
     "base_uri": "https://localhost:8080/",
     "height": 476
    },
    "colab_type": "code",
    "collapsed": false,
    "id": "XeAYBs7PPd7Y",
    "outputId": "e16f186c-1ec5-4ea1-fc06-624627984aec"
   },
   "outputs": [
    {
     "name": "stdout",
     "output_type": "stream",
     "text": [
      "available: (309)\n",
      "The Eiffel Tower The Great Wall of China The Mona Lisa aircraft carrier airplane alarm clock\n",
      "ambulance angel animal migration ant anvil apple arm asparagus axe backpack banana bandage barn\n",
      "baseball bat baseball basket basketball bat bathtub beach bear beard bed bee belt bench bicycle\n",
      "binoculars bird birthday cake blackberry blueberry book boomerang bottlecap bowtie bracelet brain\n",
      "bread bridge broccoli broom bucket bulldozer bus bush butterfly cactus cake calculator calendar\n",
      "camel camera camouflage campfire candle cannon canoe car carrot castle cat ceiling fan cell phone\n",
      "cello chair chandelier church circle clarinet clock cloud coffee cup compass computer cookie cooler\n",
      "couch cow crab crayon crocodile crown cruise ship cup diamond dishwasher diving board dog dolphin\n",
      "donut door dragon dresser drill drums duck dumbbell ear elbow elephant envelope eraser eye\n",
      "eyeglasses face fan feather fence finger fire hydrant fireplace firetruck fish flamingo flashlight\n",
      "flip flops floor lamp flower flying saucer foot fork frog frying pan garden hose garden giraffe\n",
      "goatee golf club grapes grass guitar hamburger hammer hand harp hat headphones hedgehog helicopter\n",
      "helmet hexagon hockey puck hockey stick horse hospital hot air balloon hot dog hot tub hourglass\n",
      "house plant house hurricane ice cream jacket jail kangaroo key keyboard knee knife ladder lantern\n",
      "laptop leaf leg light bulb lighter lighthouse lightning line lion lipstick lobster lollipop mailbox\n",
      "map marker matches megaphone mermaid microphone microwave monkey moon mosquito motorbike mountain\n",
      "mouse moustache mouth mug mushroom nail necklace nose ocean octagon octopus onion oven owl paint can\n",
      "paintbrush palm tree panda pants paper clip parachute parrot passport peanut pear peas pencil\n",
      "penguin piano pickup truck picture frame pig pillow pineapple pizza pliers police car pond pool\n",
      "popsicle postcard potato power outlet purse rabbit raccoon radio rain rainbow rake remote control\n",
      "rhinoceros rifle river roller coaster rollerskates sailboat sandwich saw saxophone school bus\n",
      "scissors scorpion screwdriver sea turtle see saw shark sheep shoe shorts shovel sink skateboard\n",
      "skull skyscraper sleeping bag smiley face snail snake snorkel snowflake snowman soccer ball sock\n",
      "speedboat spider spoon spreadsheet square squiggle squirrel stairs star steak stereo stethoscope\n",
      "stitches stop sign stove strawberry streetlight string bean submarine suitcase sun swan sweater\n",
      "swing set sword syringe t-shirt table teapot teddy-bear telephone\n"
     ]
    }
   ],
   "source": [
    "# Retrieve list of classes.\n",
    "\n",
    "def list_bucket(bucket, regexp='.*'):\n",
    "    \"\"\"Returns a (filtered) list of Keys in specified GCE bucket.\"\"\"\n",
    "    keys = []\n",
    "    fh = request.urlopen('https://storage.googleapis.com/%s' % bucket)\n",
    "    content = minidom.parseString(fh.read())\n",
    "    for e in content.getElementsByTagName('Contents'):\n",
    "        key = e.getElementsByTagName('Key')[0].firstChild.data\n",
    "        if re.match(regexp, key):\n",
    "            keys.append(key)\n",
    "    return keys\n",
    "\n",
    "all_ndjsons = list_bucket('quickdraw_dataset', '.*ndjson$')\n",
    "print('available: (%d)' % len(all_ndjsons))\n",
    "print('\\n'.join(textwrap.wrap(\n",
    "    ' '.join([key.split('/')[-1].split('.')[0] for key in all_ndjsons]),\n",
    "    width=100)))"
   ]
  },
  {
   "cell_type": "code",
   "execution_count": 3,
   "metadata": {
    "colab": {},
    "colab_type": "code",
    "collapsed": true,
    "id": "imd5ykBpPkxx"
   },
   "outputs": [],
   "source": [
    "# Store all data locally in this directory.\n",
    "data_path = 'data'\n",
    "if not os.path.exists(data_path): \n",
    "    os.mkdir(data_path)\n",
    "\n",
    "# Even larger group of all animals.\n",
    "animals = ['bird', 'butterfly', 'cat', 'crab', 'dolphin', 'elephant', 'fish',\n",
    "           'giraffe', 'horse', 'lobster', 'penguin', 'rabbit',\n",
    "           'spider', 'squirrel', 'whale']\n",
    "\n",
    "# Create your own group -- the more classes you include the more challenging\n",
    "# the classification task will be...\n",
    "\n",
    "# Choose one of the above groups.\n",
    "# Note: This will result in ~100MB of download per class.\n",
    "classes, classes_name = animals, 'animals'"
   ]
  },
  {
   "cell_type": "code",
   "execution_count": 4,
   "metadata": {
    "colab": {
     "base_uri": "https://localhost:8080/",
     "height": 255
    },
    "colab_type": "code",
    "collapsed": false,
    "id": "lQHOtcIgQM3S",
    "outputId": "cfc70e3e-18b5-4e9f-deeb-24cdb11f0b6b"
   },
   "outputs": [
    {
     "name": "stdout",
     "output_type": "stream",
     "text": [
      "\n",
      "15 classes:\n",
      "bird 65.86 MB\n",
      "butterfly 63.27 MB\n",
      "cat 73.12 MB\n",
      "crab 76.46 MB\n",
      "dolphin 46.29 MB\n",
      "elephant 70.86 MB\n",
      "fish 48.59 MB\n",
      "giraffe 58.27 MB\n",
      "horse 99.79 MB\n",
      "lobster 86.65 MB\n",
      "penguin 137.90 MB\n",
      "rabbit 95.05 MB\n",
      "spider 115.32 MB\n",
      "squirrel 100.65 MB\n",
      "whale 53.94 MB\n",
      "\n",
      "DONE :)\n"
     ]
    }
   ],
   "source": [
    "# Download the chosen group.\n",
    "\n",
    "def valid_ndjson(filename):\n",
    "    \"\"\"Checks presence + completeness of .ndjson file.\"\"\"\n",
    "    try:\n",
    "        json.loads(open(filename).readlines()[-1])\n",
    "        return True\n",
    "    except (ValueError, IOError):\n",
    "        return False\n",
    "\n",
    "def retrieve(bucket, key, filename):\n",
    "    \"\"\"Returns a file specified by its Key from a GCE bucket.\"\"\"\n",
    "    url = 'https://storage.googleapis.com/%s/%s' % (bucket, key)\n",
    "    if not os.path.isfile(filename):\n",
    "        request.urlretrieve(url=url, filename=filename)\n",
    "    while not valid_ndjson(filename):\n",
    "        print('*** Corrupted download (%.2f MB), retrying...' % (os.path.getsize(filename) / 2.**20))\n",
    "        request.urlretrieve(url=url, filename=filename)\n",
    "\n",
    "if not os.path.exists(data_path):\n",
    "    os.mkdir(data_path)\n",
    "\n",
    "print('\\n%d classes:' % len(classes))\n",
    "\n",
    "for name in classes:\n",
    "    print(name, end=' ')\n",
    "    dst = '%s/%s.ndjson' % (data_path, name)\n",
    "    retrieve('quickdraw_dataset', 'full/simplified/%s.ndjson' % name, dst)\n",
    "    print('%.2f MB' % (os.path.getsize(dst) / 2.**20))\n",
    "\n",
    "print('\\nDONE :)')\n"
   ]
  },
  {
   "cell_type": "markdown",
   "metadata": {
    "colab_type": "text",
    "id": "3PBtoAMsQ558"
   },
   "source": [
    "# Inspect the data"
   ]
  },
  {
   "cell_type": "code",
   "execution_count": 5,
   "metadata": {
    "colab": {
     "base_uri": "https://localhost:8080/",
     "height": 204
    },
    "colab_type": "code",
    "collapsed": false,
    "id": "-HHhNxZ3QNSW",
    "outputId": "e76d7ff6-7d62-417d-ca65-44c4031a86fe"
   },
   "outputs": [
    {
     "name": "stdout",
     "output_type": "stream",
     "text": [
      "total 3.3G\r\n",
      "-rw-rw-r-- 1 veeannzhang veeannzhang  59M Nov  5 04:58 bat.ndjson\r\n",
      "-rw-rw-r-- 1 veeannzhang veeannzhang  66M Nov  5 04:58 bird.ndjson\r\n",
      "-rw-rw-r-- 1 veeannzhang veeannzhang  64M Nov  5 04:58 butterfly.ndjson\r\n",
      "-rw-rw-r-- 1 veeannzhang veeannzhang  55M Nov  5 04:58 camel.ndjson\r\n",
      "-rw-rw-r-- 1 veeannzhang veeannzhang  74M Nov  5 04:58 cat.ndjson\r\n",
      "-rw-rw-r-- 1 veeannzhang veeannzhang  92M Nov  5 04:58 cow.ndjson\r\n",
      "-rw-rw-r-- 1 veeannzhang veeannzhang  77M Nov  5 04:58 crab.ndjson\r\n",
      "-rw-rw-r-- 1 veeannzhang veeannzhang  58M Nov  5 04:58 crocodile.ndjson\r\n",
      "-rw-rw-r-- 1 veeannzhang veeannzhang  88M Nov  5 04:58 dog.ndjson\r\n",
      "-rw-rw-r-- 1 veeannzhang veeannzhang  47M Nov  5 04:58 dolphin.ndjson\r\n",
      "-rw-rw-r-- 1 veeannzhang veeannzhang  68M Nov  5 04:58 duck.ndjson\r\n",
      "-rw-rw-r-- 1 veeannzhang veeannzhang  71M Nov  4 22:28 elephant.ndjson\r\n",
      "-rw-rw-r-- 1 veeannzhang veeannzhang  49M Nov  5 04:58 fish.ndjson\r\n",
      "-rw-rw-r-- 1 veeannzhang veeannzhang  93M Nov  5 04:58 frog.ndjson\r\n",
      "-rw-rw-r-- 1 veeannzhang veeannzhang  59M Nov  4 22:29 giraffe.ndjson\r\n",
      "-rw-rw-r-- 1 veeannzhang veeannzhang  91M Nov  5 04:58 hedgehog.ndjson\r\n",
      "-rw-rw-r-- 1 veeannzhang veeannzhang 100M Nov  5 04:58 horse.ndjson\r\n",
      "-rw-rw-r-- 1 veeannzhang veeannzhang  97M Nov  4 22:29 kangaroo.ndjson\r\n",
      "-rw-rw-r-- 1 veeannzhang veeannzhang  91M Nov  4 22:29 lion.ndjson\r\n",
      "-rw-rw-r-- 1 veeannzhang veeannzhang  87M Nov  5 04:58 lobster.ndjson\r\n",
      "-rw-rw-r-- 1 veeannzhang veeannzhang  92M Nov  4 22:29 monkey.ndjson\r\n",
      "-rw-rw-r-- 1 veeannzhang veeannzhang  65M Nov  5 04:58 mosquito.ndjson\r\n",
      "-rw-rw-r-- 1 veeannzhang veeannzhang  77M Nov  5 04:58 mouse.ndjson\r\n",
      "-rw-rw-r-- 1 veeannzhang veeannzhang  80M Nov  5 04:58 octopus.ndjson\r\n",
      "-rw-rw-r-- 1 veeannzhang veeannzhang 109M Nov  5 04:58 owl.ndjson\r\n",
      "-rw-rw-r-- 1 veeannzhang veeannzhang  98M Nov  4 22:29 panda.ndjson\r\n",
      "-rw-rw-r-- 1 veeannzhang veeannzhang  97M Nov  5 04:58 parrot.ndjson\r\n",
      "-rw-rw-r-- 1 veeannzhang veeannzhang 138M Nov  4 22:29 penguin.ndjson\r\n",
      "-rw-rw-r-- 1 veeannzhang veeannzhang 125M Nov  5 04:58 pig.ndjson\r\n",
      "-rw-rw-r-- 1 veeannzhang veeannzhang  96M Nov  5 04:58 rabbit.ndjson\r\n",
      "-rw-rw-r-- 1 veeannzhang veeannzhang  90M Nov  5 04:58 raccoon.ndjson\r\n",
      "-rw-rw-r-- 1 veeannzhang veeannzhang  93M Nov  4 22:29 rhinoceros.ndjson\r\n",
      "-rw-rw-r-- 1 veeannzhang veeannzhang 105M Nov  5 04:58 scorpion.ndjson\r\n",
      "-rw-rw-r-- 1 veeannzhang veeannzhang  49M Nov  5 05:00 shark.ndjson\r\n",
      "-rw-rw-r-- 1 veeannzhang veeannzhang  81M Nov  5 05:00 sheep.ndjson\r\n",
      "-rw-rw-r-- 1 veeannzhang veeannzhang  70M Nov  5 05:00 snail.ndjson\r\n",
      "-rw-rw-r-- 1 veeannzhang veeannzhang 116M Nov  5 05:00 spider.ndjson\r\n",
      "-rw-rw-r-- 1 veeannzhang veeannzhang 101M Nov  5 05:00 squirrel.ndjson\r\n",
      "-rw-rw-r-- 1 veeannzhang veeannzhang  87M Nov  4 22:29 tiger.ndjson\r\n",
      "-rw-rw-r-- 1 veeannzhang veeannzhang  54M Nov  5 05:02 whale.ndjson\r\n",
      "-rw-rw-r-- 1 veeannzhang veeannzhang  93M Nov  4 22:29 zebra.ndjson\r\n"
     ]
    }
   ],
   "source": [
    "# So let's check out the downloaded files...\n",
    "!ls -lh $data_path"
   ]
  },
  {
   "cell_type": "code",
   "execution_count": 6,
   "metadata": {
    "colab": {
     "base_uri": "https://localhost:8080/",
     "height": 71
    },
    "colab_type": "code",
    "collapsed": false,
    "id": "lL73Zh1hRDeo",
    "outputId": "092d9507-2908-4f30-fc14-9a46f161b3da"
   },
   "outputs": [
    {
     "name": "stdout",
     "output_type": "stream",
     "text": [
      "{\"word\":\"bird\",\"countrycode\":\"US\",\"timestamp\":\"2017-03-09 00:28:55.63775 UTC\",\"recognized\":true,\"key_id\":\"4926006882205696\",\"drawing\":[[[0,11,23,50,72,96,97,132,158,224,255],[22,9,2,0,26,45,71,40,27,10,9]]]}\n",
      "{\"word\":\"bird\",\"countrycode\":\"US\",\"timestamp\":\"2017-03-29 04:22:58.82297 UTC\",\"recognized\":true,\"key_id\":\"5357674197680128\",\"drawing\":[[[65,194,221,240,250,255,251,242,227,210,173,154,133,86,58,55],[102,104,111,120,130,151,161,173,181,184,186,181,170,138,106,94]],[[211,216],[133,138]],[[208,205,205],[154,164,159]],[[94,82,74,74,83,91,106,139,164],[143,165,196,244,250,250,242,211,146]],[[107,108,111,127,155,175,181,181,176,178],[84,53,44,20,2,0,16,52,79,92]],[[42,25,3,0],[94,89,62,39]]]}\n",
      "{\"word\":\"bird\",\"countrycode\":\"US\",\"timestamp\":\"2017-03-17 19:31:28.87981 UTC\",\"recognized\":true,\"key_id\":\"5553672849195008\",\"drawing\":[[[159,163,175,189,201,209,227,245,253,255],[15,9,2,0,5,16,8,7,15,23]],[[124,108,101,97,96,105,152,159,171,178,179,168,154,140,125],[52,50,55,63,81,93,115,114,101,73,...\n"
     ]
    }
   ],
   "source": [
    "# What is the NDJSON file format?\n",
    "# Seems to be one JSON dictionary per line...\n",
    "path = sorted(tf.gfile.Glob(os.path.join(data_path, '*.ndjson')))[1]\n",
    "print(open(path).read()[:1000] + '...')"
   ]
  },
  {
   "cell_type": "code",
   "execution_count": 7,
   "metadata": {
    "colab": {
     "base_uri": "https://localhost:8080/",
     "height": 34
    },
    "colab_type": "code",
    "collapsed": false,
    "id": "eY_5NtJXTW5-",
    "outputId": "cc847a10-10b2-4c7d-8e9d-746c66cb4107"
   },
   "outputs": [
    {
     "data": {
      "text/plain": [
       "dict_keys(['word', 'countrycode', 'timestamp', 'recognized', 'drawing', 'key_id'])"
      ]
     },
     "execution_count": 7,
     "metadata": {},
     "output_type": "execute_result"
    }
   ],
   "source": [
    "# Parse single line.\n",
    "data_json = json.loads(open(path).readline())\n",
    "data_json.keys()"
   ]
  },
  {
   "cell_type": "code",
   "execution_count": 8,
   "metadata": {
    "colab": {
     "base_uri": "https://localhost:8080/",
     "height": 102
    },
    "colab_type": "code",
    "collapsed": false,
    "id": "Uf2G8GZKTlXC",
    "outputId": "b952b9a1-9af5-4010-da02-40922d450097"
   },
   "outputs": [
    {
     "name": "stdout",
     "output_type": "stream",
     "text": [
      "                word   ->   bird\n",
      "         countrycode   ->   US\n",
      "           timestamp   ->   2017-03-09 00:28:55.63775 UTC\n",
      "          recognized   ->   True\n",
      "              key_id   ->   4926006882205696\n"
     ]
    }
   ],
   "source": [
    "# So we have some meta information...\n",
    "for k, v in data_json.items():\n",
    "    if k != 'drawing':\n",
    "        print('%20s   ->   %s' % (k, v))"
   ]
  },
  {
   "cell_type": "code",
   "execution_count": 9,
   "metadata": {
    "colab": {
     "base_uri": "https://localhost:8080/",
     "height": 221
    },
    "colab_type": "code",
    "collapsed": false,
    "id": "xl1i5GDxTmig",
    "outputId": "a3ee715c-db8f-4397-a94a-d06bcb6200d8"
   },
   "outputs": [
    {
     "data": {
      "text/plain": [
       "[(2, 11)]"
      ]
     },
     "execution_count": 9,
     "metadata": {},
     "output_type": "execute_result"
    }
   ],
   "source": [
    "# ...and the actual drawing.\n",
    "drawing = data_json['drawing']\n",
    "# The drawing consists of a series of strokes:\n",
    "[np.array(stroke).shape for stroke in drawing]"
   ]
  },
  {
   "cell_type": "code",
   "execution_count": 10,
   "metadata": {
    "colab": {
     "base_uri": "https://localhost:8080/",
     "height": 347
    },
    "colab_type": "code",
    "collapsed": false,
    "id": "ST-U6uEUTnxB",
    "outputId": "8fde6558-6ff9-4ae8-c781-e47ebcea6da1"
   },
   "outputs": [],
   "source": [
    "# Draw the image -- the strokes all have have shape (2, n)\n",
    "# so the first index seems to be x/y coordinate:\n",
    "\n",
    "def draw_strokes(drawing):\n",
    "    # Use a different color for each stroke\n",
    "    colors = cm.rainbow(np.linspace(0, 1, len(drawing)))\n",
    "    plt.axis('off')\n",
    "    for stroke, c in zip(drawing, colors):\n",
    "        #print(stroke[0], stroke[1])\n",
    "        plt.plot(np.array(stroke[0]), -1 * np.array(stroke[1]), color=c)\n",
    "    \n",
    "draw_strokes(drawing)"
   ]
  },
  {
   "cell_type": "code",
   "execution_count": 11,
   "metadata": {
    "colab": {
     "base_uri": "https://localhost:8080/",
     "height": 34
    },
    "colab_type": "code",
    "collapsed": false,
    "id": "axa3o1aHTpVL",
    "outputId": "4694b9c0-bced-4729-da3f-03b23126e47b"
   },
   "outputs": [
    {
     "name": "stdout",
     "output_type": "stream",
     "text": [
      "loading some \"bird\"...\n"
     ]
    }
   ],
   "source": [
    "# Some more code to load many sketches at once.\n",
    "# Let's ignore the difficult \"unrecognized\" sketches for now...\n",
    "# (i.e. unrecognized by the official quickdraw classifier)\n",
    "\n",
    "def convert(line):\n",
    "    \"\"\"Converts single line to JSON + converts 'drawing' to list of np.array.\"\"\"\n",
    "    d = json.loads(line)\n",
    "    d['drawing'] = [np.array(stroke) for stroke in d['drawing']]\n",
    "    return d\n",
    "\n",
    "def loaditer(name, unrecognized=False):\n",
    "    \"\"\"Returns iterable of drawings in specified file.\n",
    "\n",
    "    Args:\n",
    "      name: Name of the downloaded object (e.g. \"elephant\").\n",
    "      unrecognized: Whether to include drawings that were not recognized\n",
    "          by Google AI (i.e. the hard ones).\n",
    "    \"\"\"\n",
    "    for line in open('%s/%s.ndjson' % (data_path, name)):\n",
    "        d = convert(line)\n",
    "        if d['recognized'] or unrecognized:\n",
    "            yield d\n",
    "\n",
    "def loadn(name, n, unrecognized=False):\n",
    "    \"\"\"Returns list of drawings.\n",
    "\n",
    "    Args:\n",
    "      name: Name of the downloaded object (e.g. \"elephant\").\n",
    "      n: Number of drawings to load.\n",
    "      unrecognized: Whether to include drawings that were not recognized\n",
    "          by Google AI (i.e. the hard ones).\n",
    "    \"\"\"\n",
    "    it = loaditer(name, unrecognized=unrecognized)\n",
    "    return list(itertools.islice(it, 0, n))\n",
    "\n",
    "print('loading some \"%s\"...' % classes[0])\n",
    "sample = loadn(classes[0], 100)"
   ]
  },
  {
   "cell_type": "code",
   "execution_count": 12,
   "metadata": {
    "colab": {
     "base_uri": "https://localhost:8080/",
     "height": 238
    },
    "colab_type": "code",
    "collapsed": false,
    "id": "izCC7K2lV17W",
    "outputId": "7841512c-3817-452c-914d-7ebb92e7667d"
   },
   "outputs": [
    {
     "data": {
      "text/plain": [
       "{'countrycode': 'US',\n",
       " 'drawing': [array([[  0,  11,  23,  50,  72,  96,  97, 132, 158, 224, 255],\n",
       "         [ 22,   9,   2,   0,  26,  45,  71,  40,  27,  10,   9]])],\n",
       " 'key_id': '4926006882205696',\n",
       " 'recognized': True,\n",
       " 'timestamp': '2017-03-09 00:28:55.63775 UTC',\n",
       " 'word': 'bird'}"
      ]
     },
     "execution_count": 12,
     "metadata": {},
     "output_type": "execute_result"
    }
   ],
   "source": [
    "sample[0]"
   ]
  },
  {
   "cell_type": "code",
   "execution_count": 13,
   "metadata": {
    "colab": {
     "base_uri": "https://localhost:8080/",
     "height": 592
    },
    "colab_type": "code",
    "collapsed": false,
    "id": "owBC4VL9WCr4",
    "outputId": "d3fdca56-d5ce-4505-deab-928e52855f3d"
   },
   "outputs": [],
   "source": [
    "# Some more drawings...\n",
    "plt.figure(figsize=(10, 10))\n",
    "n = 3\n",
    "for x in range(n):\n",
    "    for y in range(n):\n",
    "        i = x * n + y\n",
    "        plt.subplot(n, n, i + 1)\n",
    "        drawing = sample[i]['drawing']\n",
    "        draw_strokes(drawing)\n",
    "        \n",
    "# Elephants!"
   ]
  },
  {
   "cell_type": "code",
   "execution_count": 14,
   "metadata": {
    "colab": {
     "base_uri": "https://localhost:8080/",
     "height": 187
    },
    "colab_type": "code",
    "collapsed": false,
    "id": "w92hgeIfgCaA",
    "outputId": "92aabd27-57f3-4220-e62a-468a8437c921"
   },
   "outputs": [
    {
     "name": "stdout",
     "output_type": "stream",
     "text": [
      "bird 133572 recognized 111611\n",
      "butterfly 117999 recognized 114549\n",
      "cat 123202 recognized 103031\n",
      "crab 126930 recognized 106466\n",
      "dolphin 121613 recognized 110335\n",
      "elephant 126969 recognized 104986\n",
      "fish 134150 recognized 126420\n",
      "giraffe 127182 recognized 122396\n",
      "horse 178286 recognized 156302\n",
      "lobster 140175 recognized 118228\n",
      "penguin 253791 recognized 231826\n",
      "rabbit 155288 recognized 133323\n",
      "spider 209447 recognized 187865\n",
      "squirrel 156883 recognized 134923\n",
      "whale 116502 recognized 109081\n"
     ]
    }
   ],
   "source": [
    "# Let's first check how many [recognized=True] examples we have in each class.\n",
    "# Depending on your choice of classes you could generate >200k examples / class...\n",
    "for name in classes:\n",
    "    print(name, len(list(open('%s/%s.ndjson' % (data_path, name)))), 'recognized', len(list(loaditer(name))))"
   ]
  },
  {
   "cell_type": "markdown",
   "metadata": {
    "colab_type": "text",
    "id": "qZhJHLGUXp7g"
   },
   "source": [
    "# Strokes -> Pictures"
   ]
  },
  {
   "cell_type": "code",
   "execution_count": 15,
   "metadata": {
    "colab": {},
    "colab_type": "code",
    "collapsed": true,
    "id": "ZljwIGDeWXyF"
   },
   "outputs": [],
   "source": [
    "# The sequence information is important! But... for now we'll \n",
    "# convert these sequences to plain old images."
   ]
  },
  {
   "cell_type": "code",
   "execution_count": 16,
   "metadata": {
    "colab": {},
    "colab_type": "code",
    "collapsed": true,
    "id": "8DpyF28KXnWF"
   },
   "outputs": [],
   "source": [
    "\n",
    "def json_to_img(drawing, img_sz=64, lw=3, maximize=True):\n",
    "    img = Image.new('L', (img_sz, img_sz))\n",
    "    draw = ImageDraw.Draw(img)\n",
    "    lines = np.array([\n",
    "        stroke[0:2, i:i+2]\n",
    "        for stroke in drawing\n",
    "        for i in range(stroke.shape[1] - 1)\n",
    "    ], dtype=np.float32)\n",
    "    if maximize:\n",
    "        for i in range(2):\n",
    "            min_, max_ = lines[:,i,:].min() * 0.95, lines[:,i,:].max() * 1.05\n",
    "            lines[:,i,:] = (lines[:,i,:] - min_) / max(max_ - min_, 1)\n",
    "    else:\n",
    "        lines /= 1024\n",
    "    for line in lines:\n",
    "        draw.line(tuple(line.T.reshape((-1,)) * img_sz), fill='white', width=lw)\n",
    "    return img"
   ]
  },
  {
   "cell_type": "code",
   "execution_count": 17,
   "metadata": {
    "colab": {
     "base_uri": "https://localhost:8080/",
     "height": 81
    },
    "colab_type": "code",
    "collapsed": false,
    "id": "b1KrwVjhZHlE",
    "outputId": "87988210-9503-438b-f753-6138804b9304"
   },
   "outputs": [
    {
     "data": {
      "image/png": "[encoded data removed]",
      "text/plain": [
       "<PIL.Image.Image image mode=L size=64x64 at 0x7FABAED2BA58>"
      ]
     },
     "execution_count": 17,
     "metadata": {},
     "output_type": "execute_result"
    }
   ],
   "source": [
    "json_to_img(drawing)"
   ]
  },
  {
   "cell_type": "code",
   "execution_count": 18,
   "metadata": {
    "colab": {
     "base_uri": "https://localhost:8080/",
     "height": 364
    },
    "colab_type": "code",
    "collapsed": false,
    "id": "B6bCQ62MZJZW",
    "outputId": "143bbc90-4e98-40dd-9794-8c414bf85a1b"
   },
   "outputs": [
    {
     "name": "stdout",
     "output_type": "stream",
     "text": [
      "cat\n"
     ]
    }
   ],
   "source": [
    "# Fetch some images + shuffle order.\n",
    "n_per_class = 5000\n",
    "drawings_matrix = [loadn(name, n_per_class) for name in classes]\n",
    "drawings_list = functools.reduce(lambda x, y: x + y, drawings_matrix, [])\n",
    "np.random.seed(1)\n",
    "drawings_list = np.random.permutation(drawings_list)\n",
    "\n",
    "# Quick test to see how our code works so far\n",
    "draw_strokes(drawings_list[0]['drawing'])\n",
    "print(str(drawings_list[0]['word']))"
   ]
  },
  {
   "cell_type": "code",
   "execution_count": 19,
   "metadata": {
    "colab": {
     "base_uri": "https://localhost:8080/",
     "height": 81
    },
    "colab_type": "code",
    "collapsed": false,
    "id": "auEjUQCMaFlb",
    "outputId": "879987bf-9c5c-4223-f03f-00e4d5fcd71b"
   },
   "outputs": [
    {
     "data": {
      "image/png": "[encoded data removed]",
      "text/plain": [
       "<PIL.Image.Image image mode=L size=64x64 at 0x7FABAE6B1E80>"
      ]
     },
     "execution_count": 19,
     "metadata": {},
     "output_type": "execute_result"
    }
   ],
   "source": [
    "json_to_img(drawings_list[0]['drawing'])"
   ]
  },
  {
   "cell_type": "markdown",
   "metadata": {
    "colab_type": "text",
    "id": "WR4Nk8Sed9Il"
   },
   "source": [
    "# Save a dataset to disk"
   ]
  },
  {
   "cell_type": "code",
   "execution_count": 20,
   "metadata": {
    "colab": {},
    "colab_type": "code",
    "collapsed": false,
    "id": "yuaNgBowdg2B"
   },
   "outputs": [],
   "source": [
    "X, y = [], []\n",
    "for drawing in drawings_list:\n",
    "    X.append(np.array(json_to_img(drawing['drawing'])))\n",
    "    y.append(str(drawing['word']))\n",
    "    \n",
    "dataset_path = 'mini-quickdraw.npz'\n",
    "out = open(dataset_path, 'wb')\n",
    "np.savez_compressed(out, X, y, X=X, y=y)"
   ]
  },
  {
   "cell_type": "code",
   "execution_count": 21,
   "metadata": {
    "colab": {
     "base_uri": "https://localhost:8080/",
     "height": 34
    },
    "colab_type": "code",
    "collapsed": false,
    "id": "fDi9jDoBd4tR",
    "outputId": "055f6e25-3b09-4a94-ad59-da81acb2b7c6"
   },
   "outputs": [
    {
     "name": "stdout",
     "output_type": "stream",
     "text": [
      "(75000, 64, 64) (75000,)\n"
     ]
    }
   ],
   "source": [
    "# Demonstrate loading\n",
    "loaded = np.load(open(dataset_path, 'rb'))\n",
    "X, y = loaded[\"X\"], loaded[\"y\"]\n",
    "print(X.shape, y.shape)"
   ]
  },
  {
   "cell_type": "code",
   "execution_count": 22,
   "metadata": {
    "colab": {
     "base_uri": "https://localhost:8080/",
     "height": 366
    },
    "colab_type": "code",
    "collapsed": false,
    "id": "XcyLOzPWe6zo",
    "outputId": "807ec0d7-87eb-4477-d513-00d4171f8682"
   },
   "outputs": [
    {
     "name": "stdout",
     "output_type": "stream",
     "text": [
      "cat\n"
     ]
    }
   ],
   "source": [
    "plt.imshow(X[0])\n",
    "print(y[0])"
   ]
  },
  {
   "cell_type": "markdown",
   "metadata": {},
   "source": [
    "# ADL HW 3"
   ]
  },
  {
   "cell_type": "markdown",
   "metadata": {},
   "source": [
    "## 1. Build a CNN-based Classifier "
   ]
  },
  {
   "cell_type": "code",
   "execution_count": 23,
   "metadata": {
    "collapsed": false
   },
   "outputs": [
    {
     "name": "stderr",
     "output_type": "stream",
     "text": [
      "Using TensorFlow backend.\n"
     ]
    }
   ],
   "source": [
    "from keras import layers\n",
    "from keras import models\n",
    "from keras import optimizers\n",
    "from sklearn import preprocessing\n",
    "import collections\n",
    "from sklearn.cross_validation import train_test_split"
   ]
  },
  {
   "cell_type": "markdown",
   "metadata": {},
   "source": [
    "### Transform y values to numbers"
   ]
  },
  {
   "cell_type": "code",
   "execution_count": 24,
   "metadata": {
    "collapsed": false
   },
   "outputs": [
    {
     "data": {
      "text/plain": [
       "LabelEncoder()"
      ]
     },
     "execution_count": 24,
     "metadata": {},
     "output_type": "execute_result"
    }
   ],
   "source": [
    "label = preprocessing.LabelEncoder()\n",
    "label.fit(animals)"
   ]
  },
  {
   "cell_type": "code",
   "execution_count": 25,
   "metadata": {
    "collapsed": false
   },
   "outputs": [
    {
     "name": "stdout",
     "output_type": "stream",
     "text": [
      "Counter({'giraffe': 5000, 'horse': 5000, 'crab': 5000, 'penguin': 5000, 'butterfly': 5000, 'dolphin': 5000, 'rabbit': 5000, 'fish': 5000, 'whale': 5000, 'elephant': 5000, 'squirrel': 5000, 'lobster': 5000, 'cat': 5000, 'spider': 5000, 'bird': 5000})\n"
     ]
    }
   ],
   "source": [
    "cnt = collections.Counter(y)\n",
    "y_label = label.transform(y)\n",
    "print(cnt)"
   ]
  },
  {
   "cell_type": "code",
   "execution_count": 26,
   "metadata": {
    "collapsed": false
   },
   "outputs": [],
   "source": [
    "X_train, X_test, y_train, y_test = train_test_split(X, y_label)"
   ]
  },
  {
   "cell_type": "code",
   "execution_count": 27,
   "metadata": {
    "collapsed": false
   },
   "outputs": [
    {
     "data": {
      "text/plain": [
       "(56250, 64, 64)"
      ]
     },
     "execution_count": 27,
     "metadata": {},
     "output_type": "execute_result"
    }
   ],
   "source": [
    "X_train.shape"
   ]
  },
  {
   "cell_type": "code",
   "execution_count": 28,
   "metadata": {
    "collapsed": false
   },
   "outputs": [
    {
     "data": {
      "text/plain": [
       "(18750, 64, 64)"
      ]
     },
     "execution_count": 28,
     "metadata": {},
     "output_type": "execute_result"
    }
   ],
   "source": [
    "X_test.shape"
   ]
  },
  {
   "cell_type": "code",
   "execution_count": 29,
   "metadata": {
    "collapsed": false
   },
   "outputs": [],
   "source": [
    "X_train = X_train.reshape((56250, 64, 64, 1))\n",
    "X_test = X_test.reshape((18750, 64, 64, 1))"
   ]
  },
  {
   "cell_type": "code",
   "execution_count": 30,
   "metadata": {
    "collapsed": false
   },
   "outputs": [],
   "source": [
    "model = models.Sequential()\n",
    "model.add(layers.Conv2D(32,(3,3),activation = 'relu', input_shape = (64, 64, 1), padding = 'same'))\n",
    "model.add(layers.MaxPool2D(2,2))\n",
    "model.add(layers.Conv2D(64,(3,3), activation = 'relu', padding = 'same'))\n",
    "model.add(layers.MaxPool2D(2,2))\n",
    "model.add(layers.Conv2D(128,(3,3), activation = 'relu', padding = 'same'))\n",
    "model.add(layers.MaxPool2D(2,2))\n",
    "model.add(layers.Flatten())\n",
    "model.add(layers.Dropout(0.2))\n",
    "model.add(layers.Dense(256, activation = 'relu'))\n",
    "model.add(layers.Dropout(0.2))\n",
    "model.add(layers.Dense(15, activation = 'softmax'))"
   ]
  },
  {
   "cell_type": "code",
   "execution_count": 31,
   "metadata": {
    "collapsed": false
   },
   "outputs": [
    {
     "name": "stdout",
     "output_type": "stream",
     "text": [
      "_________________________________________________________________\n",
      "Layer (type)                 Output Shape              Param #   \n",
      "=================================================================\n",
      "conv2d_1 (Conv2D)            (None, 64, 64, 32)        320       \n",
      "_________________________________________________________________\n",
      "max_pooling2d_1 (MaxPooling2 (None, 32, 32, 32)        0         \n",
      "_________________________________________________________________\n",
      "conv2d_2 (Conv2D)            (None, 32, 32, 64)        18496     \n",
      "_________________________________________________________________\n",
      "max_pooling2d_2 (MaxPooling2 (None, 16, 16, 64)        0         \n",
      "_________________________________________________________________\n",
      "conv2d_3 (Conv2D)            (None, 16, 16, 128)       73856     \n",
      "_________________________________________________________________\n",
      "max_pooling2d_3 (MaxPooling2 (None, 8, 8, 128)         0         \n",
      "_________________________________________________________________\n",
      "flatten_1 (Flatten)          (None, 8192)              0         \n",
      "_________________________________________________________________\n",
      "dropout_1 (Dropout)          (None, 8192)              0         \n",
      "_________________________________________________________________\n",
      "dense_1 (Dense)              (None, 256)               2097408   \n",
      "_________________________________________________________________\n",
      "dropout_2 (Dropout)          (None, 256)               0         \n",
      "_________________________________________________________________\n",
      "dense_2 (Dense)              (None, 15)                3855      \n",
      "=================================================================\n",
      "Total params: 2,193,935\n",
      "Trainable params: 2,193,935\n",
      "Non-trainable params: 0\n",
      "_________________________________________________________________\n"
     ]
    }
   ],
   "source": [
    "model.compile(loss = 'sparse_categorical_crossentropy', optimizer = optimizers.RMSprop(lr = 1e-4), metrics = ['acc'])\n",
    "model.summary()"
   ]
  },
  {
   "cell_type": "code",
   "execution_count": 32,
   "metadata": {
    "collapsed": false
   },
   "outputs": [
    {
     "name": "stdout",
     "output_type": "stream",
     "text": [
      "Train on 45000 samples, validate on 11250 samples\n",
      "Epoch 1/5\n",
      "45000/45000 [==============================] - 201s 4ms/step - loss: 4.7895 - acc: 0.4642 - val_loss: 0.8048 - val_acc: 0.7437\n",
      "Epoch 2/5\n",
      "45000/45000 [==============================] - 201s 4ms/step - loss: 0.7802 - acc: 0.7556 - val_loss: 0.6633 - val_acc: 0.7867\n",
      "Epoch 3/5\n",
      "45000/45000 [==============================] - 200s 4ms/step - loss: 0.5796 - acc: 0.8146 - val_loss: 0.5637 - val_acc: 0.8193\n",
      "Epoch 4/5\n",
      "45000/45000 [==============================] - 200s 4ms/step - loss: 0.4686 - acc: 0.8490 - val_loss: 0.5531 - val_acc: 0.8300\n",
      "Epoch 5/5\n",
      "45000/45000 [==============================] - 199s 4ms/step - loss: 0.3977 - acc: 0.8724 - val_loss: 0.5355 - val_acc: 0.8387\n"
     ]
    }
   ],
   "source": [
    "history = model.fit(X_train, y_train, epochs = 5, batch_size = 32, validation_split = 0.2)"
   ]
  },
  {
   "cell_type": "code",
   "execution_count": 33,
   "metadata": {
    "collapsed": false
   },
   "outputs": [
    {
     "name": "stdout",
     "output_type": "stream",
     "text": [
      "18750/18750 [==============================] - 25s 1ms/step\n"
     ]
    },
    {
     "data": {
      "text/plain": [
       "[0.5464620793088277, 0.8356266666857401]"
      ]
     },
     "execution_count": 33,
     "metadata": {},
     "output_type": "execute_result"
    }
   ],
   "source": [
    "model.evaluate(X_test, y_test)"
   ]
  },
  {
   "cell_type": "markdown",
   "metadata": {},
   "source": [
    "### Design and run experients to compare"
   ]
  },
  {
   "cell_type": "markdown",
   "metadata": {},
   "source": [
    "#### a) Different learning rates"
   ]
  },
  {
   "cell_type": "markdown",
   "metadata": {},
   "source": [
    "#### learning rate = 0.01"
   ]
  },
  {
   "cell_type": "code",
   "execution_count": 34,
   "metadata": {
    "collapsed": true
   },
   "outputs": [],
   "source": [
    "model_001 = models.Sequential()\n",
    "model_001.add(layers.Conv2D(32,(3,3),activation = 'relu', input_shape = (64, 64, 1), padding = 'same'))\n",
    "model_001.add(layers.MaxPool2D(2,2))\n",
    "model_001.add(layers.Conv2D(64,(3,3), activation = 'relu', padding = 'same'))\n",
    "model_001.add(layers.MaxPool2D(2,2))\n",
    "model_001.add(layers.Conv2D(128,(3,3), activation = 'relu', padding = 'same'))\n",
    "model_001.add(layers.MaxPool2D(2,2))\n",
    "model_001.add(layers.Flatten())\n",
    "model_001.add(layers.Dropout(0.2))\n",
    "model_001.add(layers.Dense(256, activation = 'relu'))\n",
    "model_001.add(layers.Dropout(0.2))\n",
    "model_001.add(layers.Dense(15, activation = 'softmax'))"
   ]
  },
  {
   "cell_type": "code",
   "execution_count": 35,
   "metadata": {
    "collapsed": false
   },
   "outputs": [
    {
     "name": "stdout",
     "output_type": "stream",
     "text": [
      "_________________________________________________________________\n",
      "Layer (type)                 Output Shape              Param #   \n",
      "=================================================================\n",
      "conv2d_4 (Conv2D)            (None, 64, 64, 32)        320       \n",
      "_________________________________________________________________\n",
      "max_pooling2d_4 (MaxPooling2 (None, 32, 32, 32)        0         \n",
      "_________________________________________________________________\n",
      "conv2d_5 (Conv2D)            (None, 32, 32, 64)        18496     \n",
      "_________________________________________________________________\n",
      "max_pooling2d_5 (MaxPooling2 (None, 16, 16, 64)        0         \n",
      "_________________________________________________________________\n",
      "conv2d_6 (Conv2D)            (None, 16, 16, 128)       73856     \n",
      "_________________________________________________________________\n",
      "max_pooling2d_6 (MaxPooling2 (None, 8, 8, 128)         0         \n",
      "_________________________________________________________________\n",
      "flatten_2 (Flatten)          (None, 8192)              0         \n",
      "_________________________________________________________________\n",
      "dropout_3 (Dropout)          (None, 8192)              0         \n",
      "_________________________________________________________________\n",
      "dense_3 (Dense)              (None, 256)               2097408   \n",
      "_________________________________________________________________\n",
      "dropout_4 (Dropout)          (None, 256)               0         \n",
      "_________________________________________________________________\n",
      "dense_4 (Dense)              (None, 15)                3855      \n",
      "=================================================================\n",
      "Total params: 2,193,935\n",
      "Trainable params: 2,193,935\n",
      "Non-trainable params: 0\n",
      "_________________________________________________________________\n"
     ]
    }
   ],
   "source": [
    "model_001.compile(loss = 'sparse_categorical_crossentropy', optimizer = optimizers.RMSprop(lr = 0.01), metrics = ['acc'])\n",
    "model_001.summary()"
   ]
  },
  {
   "cell_type": "code",
   "execution_count": 36,
   "metadata": {
    "collapsed": false
   },
   "outputs": [
    {
     "name": "stdout",
     "output_type": "stream",
     "text": [
      "Train on 45000 samples, validate on 11250 samples\n",
      "Epoch 1/5\n",
      "45000/45000 [==============================] - 200s 4ms/step - loss: 15.0338 - acc: 0.0672 - val_loss: 15.0622 - val_acc: 0.0655\n",
      "Epoch 2/5\n",
      "45000/45000 [==============================] - 199s 4ms/step - loss: 15.0389 - acc: 0.0670 - val_loss: 15.0622 - val_acc: 0.0655\n",
      "Epoch 3/5\n",
      "45000/45000 [==============================] - 199s 4ms/step - loss: 15.0389 - acc: 0.0670 - val_loss: 15.0622 - val_acc: 0.0655\n",
      "Epoch 4/5\n",
      "45000/45000 [==============================] - 200s 4ms/step - loss: 15.0389 - acc: 0.0670 - val_loss: 15.0622 - val_acc: 0.0655\n",
      "Epoch 5/5\n",
      "45000/45000 [==============================] - 199s 4ms/step - loss: 15.0389 - acc: 0.0670 - val_loss: 15.0622 - val_acc: 0.0655\n"
     ]
    }
   ],
   "source": [
    "history = model_001.fit(X_train, y_train, epochs = 5, batch_size = 32, validation_split = 0.2)"
   ]
  },
  {
   "cell_type": "code",
   "execution_count": 37,
   "metadata": {
    "collapsed": false
   },
   "outputs": [
    {
     "name": "stdout",
     "output_type": "stream",
     "text": [
      "18750/18750 [==============================] - 25s 1ms/step\n"
     ]
    },
    {
     "data": {
      "text/plain": [
       "[15.04355737467448, 0.06666666667461395]"
      ]
     },
     "execution_count": 37,
     "metadata": {},
     "output_type": "execute_result"
    }
   ],
   "source": [
    "model_001.evaluate(X_test, y_test)"
   ]
  },
  {
   "cell_type": "markdown",
   "metadata": {},
   "source": [
    "#### learning rate = 0.005"
   ]
  },
  {
   "cell_type": "code",
   "execution_count": 38,
   "metadata": {
    "collapsed": true
   },
   "outputs": [],
   "source": [
    "model_0005 = models.Sequential()\n",
    "model_0005.add(layers.Conv2D(32,(3,3),activation = 'relu', input_shape = (64, 64, 1), padding = 'same'))\n",
    "model_0005.add(layers.MaxPool2D(2,2))\n",
    "model_0005.add(layers.Conv2D(64,(3,3), activation = 'relu', padding = 'same'))\n",
    "model_0005.add(layers.MaxPool2D(2,2))\n",
    "model_0005.add(layers.Conv2D(128,(3,3), activation = 'relu', padding = 'same'))\n",
    "model_0005.add(layers.MaxPool2D(2,2))\n",
    "model_0005.add(layers.Flatten())\n",
    "model_0005.add(layers.Dropout(0.2))\n",
    "model_0005.add(layers.Dense(256, activation = 'relu'))\n",
    "model_0005.add(layers.Dropout(0.2))\n",
    "model_0005.add(layers.Dense(15, activation = 'softmax'))"
   ]
  },
  {
   "cell_type": "code",
   "execution_count": 39,
   "metadata": {
    "collapsed": false
   },
   "outputs": [
    {
     "name": "stdout",
     "output_type": "stream",
     "text": [
      "_________________________________________________________________\n",
      "Layer (type)                 Output Shape              Param #   \n",
      "=================================================================\n",
      "conv2d_7 (Conv2D)            (None, 64, 64, 32)        320       \n",
      "_________________________________________________________________\n",
      "max_pooling2d_7 (MaxPooling2 (None, 32, 32, 32)        0         \n",
      "_________________________________________________________________\n",
      "conv2d_8 (Conv2D)            (None, 32, 32, 64)        18496     \n",
      "_________________________________________________________________\n",
      "max_pooling2d_8 (MaxPooling2 (None, 16, 16, 64)        0         \n",
      "_________________________________________________________________\n",
      "conv2d_9 (Conv2D)            (None, 16, 16, 128)       73856     \n",
      "_________________________________________________________________\n",
      "max_pooling2d_9 (MaxPooling2 (None, 8, 8, 128)         0         \n",
      "_________________________________________________________________\n",
      "flatten_3 (Flatten)          (None, 8192)              0         \n",
      "_________________________________________________________________\n",
      "dropout_5 (Dropout)          (None, 8192)              0         \n",
      "_________________________________________________________________\n",
      "dense_5 (Dense)              (None, 256)               2097408   \n",
      "_________________________________________________________________\n",
      "dropout_6 (Dropout)          (None, 256)               0         \n",
      "_________________________________________________________________\n",
      "dense_6 (Dense)              (None, 15)                3855      \n",
      "=================================================================\n",
      "Total params: 2,193,935\n",
      "Trainable params: 2,193,935\n",
      "Non-trainable params: 0\n",
      "_________________________________________________________________\n"
     ]
    }
   ],
   "source": [
    "model_0005.compile(loss = 'sparse_categorical_crossentropy', optimizer = optimizers.RMSprop(lr = 0.005), metrics = ['acc'])\n",
    "model_0005.summary()"
   ]
  },
  {
   "cell_type": "code",
   "execution_count": 40,
   "metadata": {
    "collapsed": false
   },
   "outputs": [
    {
     "name": "stdout",
     "output_type": "stream",
     "text": [
      "Train on 45000 samples, validate on 11250 samples\n",
      "Epoch 1/5\n",
      "45000/45000 [==============================] - 200s 4ms/step - loss: 15.0265 - acc: 0.0677 - val_loss: 15.0421 - val_acc: 0.0668\n",
      "Epoch 2/5\n",
      "45000/45000 [==============================] - 199s 4ms/step - loss: 15.0296 - acc: 0.0675 - val_loss: 15.0421 - val_acc: 0.0668\n",
      "Epoch 3/5\n",
      "45000/45000 [==============================] - 199s 4ms/step - loss: 15.0296 - acc: 0.0675 - val_loss: 15.0421 - val_acc: 0.0668\n",
      "Epoch 4/5\n",
      "45000/45000 [==============================] - 199s 4ms/step - loss: 15.0296 - acc: 0.0675 - val_loss: 15.0421 - val_acc: 0.0668\n",
      "Epoch 5/5\n",
      "45000/45000 [==============================] - 199s 4ms/step - loss: 15.0296 - acc: 0.0675 - val_loss: 15.0421 - val_acc: 0.0668\n"
     ]
    }
   ],
   "source": [
    "history = model_0005.fit(X_train, y_train, epochs = 5, batch_size = 32, validation_split = 0.2)"
   ]
  },
  {
   "cell_type": "code",
   "execution_count": 41,
   "metadata": {
    "collapsed": false
   },
   "outputs": [
    {
     "name": "stdout",
     "output_type": "stream",
     "text": [
      "18750/18750 [==============================] - 25s 1ms/step\n"
     ]
    },
    {
     "data": {
      "text/plain": [
       "[15.0779425982666, 0.06453333333333333]"
      ]
     },
     "execution_count": 41,
     "metadata": {},
     "output_type": "execute_result"
    }
   ],
   "source": [
    "model_0005.evaluate(X_test, y_test)"
   ]
  },
  {
   "cell_type": "markdown",
   "metadata": {},
   "source": [
    "#### b) Different gradient descent optimizers"
   ]
  },
  {
   "cell_type": "markdown",
   "metadata": {},
   "source": [
    "#### Adagrad optimizer （with learning rate = 0.001)"
   ]
  },
  {
   "cell_type": "code",
   "execution_count": 42,
   "metadata": {
    "collapsed": true
   },
   "outputs": [],
   "source": [
    "model_Adagrad = models.Sequential()\n",
    "model_Adagrad.add(layers.Conv2D(32,(3,3),activation = 'relu', input_shape = (64, 64, 1), padding = 'same'))\n",
    "model_Adagrad.add(layers.MaxPool2D(2,2))\n",
    "model_Adagrad.add(layers.Conv2D(64,(3,3), activation = 'relu', padding = 'same'))\n",
    "model_Adagrad.add(layers.MaxPool2D(2,2))\n",
    "model_Adagrad.add(layers.Conv2D(128,(3,3), activation = 'relu', padding = 'same'))\n",
    "model_Adagrad.add(layers.MaxPool2D(2,2))\n",
    "model_Adagrad.add(layers.Flatten())\n",
    "model_Adagrad.add(layers.Dropout(0.2))\n",
    "model_Adagrad.add(layers.Dense(256, activation = 'relu'))\n",
    "model_Adagrad.add(layers.Dropout(0.2))\n",
    "model_Adagrad.add(layers.Dense(15, activation = 'softmax'))"
   ]
  },
  {
   "cell_type": "code",
   "execution_count": 43,
   "metadata": {
    "collapsed": false
   },
   "outputs": [
    {
     "name": "stdout",
     "output_type": "stream",
     "text": [
      "_________________________________________________________________\n",
      "Layer (type)                 Output Shape              Param #   \n",
      "=================================================================\n",
      "conv2d_10 (Conv2D)           (None, 64, 64, 32)        320       \n",
      "_________________________________________________________________\n",
      "max_pooling2d_10 (MaxPooling (None, 32, 32, 32)        0         \n",
      "_________________________________________________________________\n",
      "conv2d_11 (Conv2D)           (None, 32, 32, 64)        18496     \n",
      "_________________________________________________________________\n",
      "max_pooling2d_11 (MaxPooling (None, 16, 16, 64)        0         \n",
      "_________________________________________________________________\n",
      "conv2d_12 (Conv2D)           (None, 16, 16, 128)       73856     \n",
      "_________________________________________________________________\n",
      "max_pooling2d_12 (MaxPooling (None, 8, 8, 128)         0         \n",
      "_________________________________________________________________\n",
      "flatten_4 (Flatten)          (None, 8192)              0         \n",
      "_________________________________________________________________\n",
      "dropout_7 (Dropout)          (None, 8192)              0         \n",
      "_________________________________________________________________\n",
      "dense_7 (Dense)              (None, 256)               2097408   \n",
      "_________________________________________________________________\n",
      "dropout_8 (Dropout)          (None, 256)               0         \n",
      "_________________________________________________________________\n",
      "dense_8 (Dense)              (None, 15)                3855      \n",
      "=================================================================\n",
      "Total params: 2,193,935\n",
      "Trainable params: 2,193,935\n",
      "Non-trainable params: 0\n",
      "_________________________________________________________________\n"
     ]
    }
   ],
   "source": [
    "model_Adagrad.compile(loss = 'sparse_categorical_crossentropy', optimizer = optimizers.Adagrad(lr = 0.001), metrics = ['acc'])\n",
    "model_Adagrad.summary()"
   ]
  },
  {
   "cell_type": "code",
   "execution_count": 44,
   "metadata": {
    "collapsed": false
   },
   "outputs": [
    {
     "name": "stdout",
     "output_type": "stream",
     "text": [
      "Train on 45000 samples, validate on 11250 samples\n",
      "Epoch 1/5\n",
      "45000/45000 [==============================] - 197s 4ms/step - loss: 15.0294 - acc: 0.0675 - val_loss: 15.0607 - val_acc: 0.0656\n",
      "Epoch 2/5\n",
      "45000/45000 [==============================] - 196s 4ms/step - loss: 15.0303 - acc: 0.0675 - val_loss: 15.0607 - val_acc: 0.0656\n",
      "Epoch 3/5\n",
      "45000/45000 [==============================] - 196s 4ms/step - loss: 15.0303 - acc: 0.0675 - val_loss: 15.0607 - val_acc: 0.0656\n",
      "Epoch 4/5\n",
      "45000/45000 [==============================] - 196s 4ms/step - loss: 15.0303 - acc: 0.0675 - val_loss: 15.0607 - val_acc: 0.0656\n",
      "Epoch 5/5\n",
      "45000/45000 [==============================] - 195s 4ms/step - loss: 15.0303 - acc: 0.0675 - val_loss: 15.0607 - val_acc: 0.0656\n"
     ]
    }
   ],
   "source": [
    "history = model_Adagrad.fit(X_train, y_train, epochs = 5, batch_size = 32, validation_split = 0.2)"
   ]
  },
  {
   "cell_type": "code",
   "execution_count": 45,
   "metadata": {
    "collapsed": false
   },
   "outputs": [
    {
     "name": "stdout",
     "output_type": "stream",
     "text": [
      "18750/18750 [==============================] - 24s 1ms/step\n"
     ]
    },
    {
     "data": {
      "text/plain": [
       "[15.064337696736654, 0.06533333333611488]"
      ]
     },
     "execution_count": 45,
     "metadata": {},
     "output_type": "execute_result"
    }
   ],
   "source": [
    "model_Adagrad.evaluate(X_test, y_test)"
   ]
  },
  {
   "cell_type": "markdown",
   "metadata": {},
   "source": [
    "#### Adam optimizer (with learning rate  = 0.001)"
   ]
  },
  {
   "cell_type": "code",
   "execution_count": 46,
   "metadata": {
    "collapsed": true
   },
   "outputs": [],
   "source": [
    "model_Adam = models.Sequential()\n",
    "model_Adam.add(layers.Conv2D(32,(3,3),activation = 'relu', input_shape = (64, 64, 1), padding = 'same'))\n",
    "model_Adam.add(layers.MaxPool2D(2,2))\n",
    "model_Adam.add(layers.Conv2D(64,(3,3), activation = 'relu', padding = 'same'))\n",
    "model_Adam.add(layers.MaxPool2D(2,2))\n",
    "model_Adam.add(layers.Conv2D(128,(3,3), activation = 'relu', padding = 'same'))\n",
    "model_Adam.add(layers.MaxPool2D(2,2))\n",
    "model_Adam.add(layers.Flatten())\n",
    "model_Adam.add(layers.Dropout(0.2))\n",
    "model_Adam.add(layers.Dense(256, activation = 'relu'))\n",
    "model_Adam.add(layers.Dropout(0.2))\n",
    "model_Adam.add(layers.Dense(15, activation = 'softmax'))"
   ]
  },
  {
   "cell_type": "code",
   "execution_count": 47,
   "metadata": {
    "collapsed": false
   },
   "outputs": [
    {
     "name": "stdout",
     "output_type": "stream",
     "text": [
      "_________________________________________________________________\n",
      "Layer (type)                 Output Shape              Param #   \n",
      "=================================================================\n",
      "conv2d_13 (Conv2D)           (None, 64, 64, 32)        320       \n",
      "_________________________________________________________________\n",
      "max_pooling2d_13 (MaxPooling (None, 32, 32, 32)        0         \n",
      "_________________________________________________________________\n",
      "conv2d_14 (Conv2D)           (None, 32, 32, 64)        18496     \n",
      "_________________________________________________________________\n",
      "max_pooling2d_14 (MaxPooling (None, 16, 16, 64)        0         \n",
      "_________________________________________________________________\n",
      "conv2d_15 (Conv2D)           (None, 16, 16, 128)       73856     \n",
      "_________________________________________________________________\n",
      "max_pooling2d_15 (MaxPooling (None, 8, 8, 128)         0         \n",
      "_________________________________________________________________\n",
      "flatten_5 (Flatten)          (None, 8192)              0         \n",
      "_________________________________________________________________\n",
      "dropout_9 (Dropout)          (None, 8192)              0         \n",
      "_________________________________________________________________\n",
      "dense_9 (Dense)              (None, 256)               2097408   \n",
      "_________________________________________________________________\n",
      "dropout_10 (Dropout)         (None, 256)               0         \n",
      "_________________________________________________________________\n",
      "dense_10 (Dense)             (None, 15)                3855      \n",
      "=================================================================\n",
      "Total params: 2,193,935\n",
      "Trainable params: 2,193,935\n",
      "Non-trainable params: 0\n",
      "_________________________________________________________________\n"
     ]
    }
   ],
   "source": [
    "model_Adam.compile(loss = 'sparse_categorical_crossentropy', optimizer = optimizers.Adam(lr = 0.001), metrics = ['acc'])\n",
    "model_Adam.summary()"
   ]
  },
  {
   "cell_type": "code",
   "execution_count": 48,
   "metadata": {
    "collapsed": false
   },
   "outputs": [
    {
     "name": "stdout",
     "output_type": "stream",
     "text": [
      "Train on 45000 samples, validate on 11250 samples\n",
      "Epoch 1/5\n",
      "45000/45000 [==============================] - 202s 4ms/step - loss: 15.0435 - acc: 0.0666 - val_loss: 15.0593 - val_acc: 0.0657\n",
      "Epoch 2/5\n",
      "45000/45000 [==============================] - 202s 4ms/step - loss: 15.0439 - acc: 0.0666 - val_loss: 15.0593 - val_acc: 0.0657\n",
      "Epoch 3/5\n",
      "45000/45000 [==============================] - 202s 4ms/step - loss: 15.0439 - acc: 0.0666 - val_loss: 15.0593 - val_acc: 0.0657\n",
      "Epoch 4/5\n",
      "45000/45000 [==============================] - 203s 5ms/step - loss: 15.0439 - acc: 0.0666 - val_loss: 15.0593 - val_acc: 0.0657\n",
      "Epoch 5/5\n",
      "45000/45000 [==============================] - 204s 5ms/step - loss: 15.0439 - acc: 0.0666 - val_loss: 15.0593 - val_acc: 0.0657\n"
     ]
    }
   ],
   "source": [
    "history = model_Adam.fit(X_train, y_train, epochs = 5, batch_size = 32, validation_split = 0.2)"
   ]
  },
  {
   "cell_type": "code",
   "execution_count": 49,
   "metadata": {
    "collapsed": false
   },
   "outputs": [
    {
     "name": "stdout",
     "output_type": "stream",
     "text": [
      "18750/18750 [==============================] - 25s 1ms/step\n"
     ]
    },
    {
     "data": {
      "text/plain": [
       "[15.033241747843425, 0.06730666666944822]"
      ]
     },
     "execution_count": 49,
     "metadata": {},
     "output_type": "execute_result"
    }
   ],
   "source": [
    "model_Adam.evaluate(X_test, y_test)"
   ]
  },
  {
   "cell_type": "markdown",
   "metadata": {},
   "source": [
    "#### c) Different weight initialization strategies"
   ]
  },
  {
   "cell_type": "markdown",
   "metadata": {},
   "source": [
    "#### Zeros initializer"
   ]
  },
  {
   "cell_type": "code",
   "execution_count": 55,
   "metadata": {
    "collapsed": false
   },
   "outputs": [],
   "source": [
    "model_zeros = models.Sequential()\n",
    "model_zeros.add(layers.Conv2D(32,(3,3),activation = 'relu', input_shape = (64, 64, 1), padding = 'same'))\n",
    "model_zeros.add(layers.MaxPool2D(2,2))\n",
    "model_zeros.add(layers.Conv2D(64,(3,3), activation = 'relu', padding = 'same'))\n",
    "model_zeros.add(layers.MaxPool2D(2,2))\n",
    "model_zeros.add(layers.Conv2D(128,(3,3), activation = 'relu', padding = 'same'))\n",
    "model_zeros.add(layers.MaxPool2D(2,2))\n",
    "model_zeros.add(layers.Flatten())\n",
    "model_zeros.add(layers.Dropout(0.2))\n",
    "model_zeros.add(layers.Dense(256, activation = 'relu', kernel_initializer = 'Zeros'))\n",
    "model_zeros.add(layers.Dropout(0.2))\n",
    "model_zeros.add(layers.Dense(15, activation = 'softmax'))"
   ]
  },
  {
   "cell_type": "code",
   "execution_count": 56,
   "metadata": {
    "collapsed": false
   },
   "outputs": [
    {
     "name": "stdout",
     "output_type": "stream",
     "text": [
      "_________________________________________________________________\n",
      "Layer (type)                 Output Shape              Param #   \n",
      "=================================================================\n",
      "conv2d_25 (Conv2D)           (None, 64, 64, 32)        320       \n",
      "_________________________________________________________________\n",
      "max_pooling2d_25 (MaxPooling (None, 32, 32, 32)        0         \n",
      "_________________________________________________________________\n",
      "conv2d_26 (Conv2D)           (None, 32, 32, 64)        18496     \n",
      "_________________________________________________________________\n",
      "max_pooling2d_26 (MaxPooling (None, 16, 16, 64)        0         \n",
      "_________________________________________________________________\n",
      "conv2d_27 (Conv2D)           (None, 16, 16, 128)       73856     \n",
      "_________________________________________________________________\n",
      "max_pooling2d_27 (MaxPooling (None, 8, 8, 128)         0         \n",
      "_________________________________________________________________\n",
      "flatten_9 (Flatten)          (None, 8192)              0         \n",
      "_________________________________________________________________\n",
      "dropout_14 (Dropout)         (None, 8192)              0         \n",
      "_________________________________________________________________\n",
      "dense_14 (Dense)             (None, 256)               2097408   \n",
      "_________________________________________________________________\n",
      "dropout_15 (Dropout)         (None, 256)               0         \n",
      "_________________________________________________________________\n",
      "dense_15 (Dense)             (None, 15)                3855      \n",
      "=================================================================\n",
      "Total params: 2,193,935\n",
      "Trainable params: 2,193,935\n",
      "Non-trainable params: 0\n",
      "_________________________________________________________________\n"
     ]
    }
   ],
   "source": [
    "model_zeros.compile(loss = 'sparse_categorical_crossentropy', optimizer = optimizers.RMSprop(lr = 1e-4), metrics = ['acc'])\n",
    "model_zeros.summary()"
   ]
  },
  {
   "cell_type": "code",
   "execution_count": 57,
   "metadata": {
    "collapsed": false
   },
   "outputs": [
    {
     "name": "stdout",
     "output_type": "stream",
     "text": [
      "Train on 45000 samples, validate on 11250 samples\n",
      "Epoch 1/5\n",
      "45000/45000 [==============================] - 198s 4ms/step - loss: 2.7081 - acc: 0.0656 - val_loss: 2.7081 - val_acc: 0.0668\n",
      "Epoch 2/5\n",
      "45000/45000 [==============================] - 198s 4ms/step - loss: 2.7080 - acc: 0.0675 - val_loss: 2.7082 - val_acc: 0.0628\n",
      "Epoch 3/5\n",
      "45000/45000 [==============================] - 198s 4ms/step - loss: 2.7080 - acc: 0.0676 - val_loss: 2.7082 - val_acc: 0.0628\n",
      "Epoch 4/5\n",
      "45000/45000 [==============================] - 198s 4ms/step - loss: 2.7080 - acc: 0.0686 - val_loss: 2.7083 - val_acc: 0.0628\n",
      "Epoch 5/5\n",
      "45000/45000 [==============================] - 197s 4ms/step - loss: 2.7080 - acc: 0.0686 - val_loss: 2.7083 - val_acc: 0.0628\n"
     ]
    }
   ],
   "source": [
    "history = model_zeros.fit(X_train, y_train, epochs = 5, batch_size = 32, validation_split = 0.2)"
   ]
  },
  {
   "cell_type": "code",
   "execution_count": 58,
   "metadata": {
    "collapsed": false
   },
   "outputs": [
    {
     "name": "stdout",
     "output_type": "stream",
     "text": [
      "18750/18750 [==============================] - 24s 1ms/step\n"
     ]
    },
    {
     "data": {
      "text/plain": [
       "[2.7082658289082846, 0.06442666667222977]"
      ]
     },
     "execution_count": 58,
     "metadata": {},
     "output_type": "execute_result"
    }
   ],
   "source": [
    "model_zeros.evaluate(X_test, y_test)"
   ]
  },
  {
   "cell_type": "markdown",
   "metadata": {},
   "source": [
    "#### Random Normal initializer"
   ]
  },
  {
   "cell_type": "code",
   "execution_count": 59,
   "metadata": {
    "collapsed": true
   },
   "outputs": [],
   "source": [
    "model_rn = models.Sequential()\n",
    "model_rn.add(layers.Conv2D(32,(3,3),activation = 'relu', input_shape = (64, 64, 1), padding = 'same'))\n",
    "model_rn.add(layers.MaxPool2D(2,2))\n",
    "model_rn.add(layers.Conv2D(64,(3,3), activation = 'relu', padding = 'same'))\n",
    "model_rn.add(layers.MaxPool2D(2,2))\n",
    "model_rn.add(layers.Conv2D(128,(3,3), activation = 'relu', padding = 'same'))\n",
    "model_rn.add(layers.MaxPool2D(2,2))\n",
    "model_rn.add(layers.Flatten())\n",
    "model_rn.add(layers.Dropout(0.2))\n",
    "model_rn.add(layers.Dense(256, activation = 'relu', \n",
    "                kernel_initializer = initializers.RandomNormal(mean=0.0, stddev=0.05, seed=None)))\n",
    "model_rn.add(layers.Dropout(0.2))\n",
    "model_rn.add(layers.Dense(15, activation = 'softmax'))"
   ]
  },
  {
   "cell_type": "code",
   "execution_count": 60,
   "metadata": {
    "collapsed": false
   },
   "outputs": [
    {
     "name": "stdout",
     "output_type": "stream",
     "text": [
      "_________________________________________________________________\n",
      "Layer (type)                 Output Shape              Param #   \n",
      "=================================================================\n",
      "conv2d_28 (Conv2D)           (None, 64, 64, 32)        320       \n",
      "_________________________________________________________________\n",
      "max_pooling2d_28 (MaxPooling (None, 32, 32, 32)        0         \n",
      "_________________________________________________________________\n",
      "conv2d_29 (Conv2D)           (None, 32, 32, 64)        18496     \n",
      "_________________________________________________________________\n",
      "max_pooling2d_29 (MaxPooling (None, 16, 16, 64)        0         \n",
      "_________________________________________________________________\n",
      "conv2d_30 (Conv2D)           (None, 16, 16, 128)       73856     \n",
      "_________________________________________________________________\n",
      "max_pooling2d_30 (MaxPooling (None, 8, 8, 128)         0         \n",
      "_________________________________________________________________\n",
      "flatten_10 (Flatten)         (None, 8192)              0         \n",
      "_________________________________________________________________\n",
      "dropout_16 (Dropout)         (None, 8192)              0         \n",
      "_________________________________________________________________\n",
      "dense_16 (Dense)             (None, 256)               2097408   \n",
      "_________________________________________________________________\n",
      "dropout_17 (Dropout)         (None, 256)               0         \n",
      "_________________________________________________________________\n",
      "dense_17 (Dense)             (None, 15)                3855      \n",
      "=================================================================\n",
      "Total params: 2,193,935\n",
      "Trainable params: 2,193,935\n",
      "Non-trainable params: 0\n",
      "_________________________________________________________________\n"
     ]
    }
   ],
   "source": [
    "model_rn.compile(loss = 'sparse_categorical_crossentropy', optimizer = optimizers.RMSprop(lr = 1e-4), metrics = ['acc'])\n",
    "model_rn.summary()"
   ]
  },
  {
   "cell_type": "code",
   "execution_count": 61,
   "metadata": {
    "collapsed": false
   },
   "outputs": [
    {
     "name": "stdout",
     "output_type": "stream",
     "text": [
      "Train on 45000 samples, validate on 11250 samples\n",
      "Epoch 1/5\n",
      "45000/45000 [==============================] - 199s 4ms/step - loss: 13.9444 - acc: 0.1312 - val_loss: 12.9346 - val_acc: 0.1922\n",
      "Epoch 2/5\n",
      "45000/45000 [==============================] - 198s 4ms/step - loss: 12.8965 - acc: 0.1928 - val_loss: 11.4264 - val_acc: 0.2769\n",
      "Epoch 3/5\n",
      "45000/45000 [==============================] - 197s 4ms/step - loss: 10.3961 - acc: 0.3361 - val_loss: 8.1204 - val_acc: 0.4582\n",
      "Epoch 4/5\n",
      "45000/45000 [==============================] - 197s 4ms/step - loss: 4.2353 - acc: 0.4975 - val_loss: 1.1721 - val_acc: 0.6452\n",
      "Epoch 5/5\n",
      "45000/45000 [==============================] - 197s 4ms/step - loss: 1.1647 - acc: 0.6496 - val_loss: 0.8895 - val_acc: 0.7207\n"
     ]
    }
   ],
   "source": [
    "history = model_rn.fit(X_train, y_train, epochs = 5, batch_size = 32, validation_split = 0.2)"
   ]
  },
  {
   "cell_type": "code",
   "execution_count": 62,
   "metadata": {
    "collapsed": false
   },
   "outputs": [
    {
     "name": "stdout",
     "output_type": "stream",
     "text": [
      "18750/18750 [==============================] - 24s 1ms/step\n"
     ]
    },
    {
     "data": {
      "text/plain": [
       "[0.8960831544812521, 0.7182399999745687]"
      ]
     },
     "execution_count": 62,
     "metadata": {},
     "output_type": "execute_result"
    }
   ],
   "source": [
    "model_rn.evaluate(X_test, y_test)"
   ]
  },
  {
   "cell_type": "markdown",
   "metadata": {},
   "source": [
    "### Evaluation"
   ]
  },
  {
   "cell_type": "markdown",
   "metadata": {},
   "source": [
    "As we can see from the above models, changing learning rate, gradient descent optimizer, or weight initialization strategies won't help with model performance.\n",
    "\n",
    "\n",
    "Therefore, our best score comes from the first model: \n",
    "\n",
    "Loss score: 0.55\n",
    "\n",
    "Test score: 0.84"
   ]
  }
 ],
 "metadata": {
  "colab": {
   "collapsed_sections": [],
   "name": "5-quickdraw-loader.ipynb",
   "provenance": [],
   "toc_visible": true,
   "version": "0.3.2"
  },
  "kernelspec": {
   "display_name": "Python 3",
   "language": "python",
   "name": "python3"
  },
  "language_info": {
   "codemirror_mode": {
    "name": "ipython",
    "version": 3
   },
   "file_extension": ".py",
   "mimetype": "text/x-python",
   "name": "python",
   "nbconvert_exporter": "python",
   "pygments_lexer": "ipython3",
   "version": "3.5.1"
  }
 },
 "nbformat": 4,
 "nbformat_minor": 0
}
