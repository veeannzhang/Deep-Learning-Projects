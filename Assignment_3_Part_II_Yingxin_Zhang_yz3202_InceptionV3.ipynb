{
  "nbformat": 4,
  "nbformat_minor": 0,
  "metadata": {
    "colab": {
      "name": "Assignment_3_Part_II_Yingxin_Zhang_yz3202_InceptionV3.ipynb",
      "version": "0.3.2",
      "provenance": []
    },
    "kernelspec": {
      "name": "python3",
      "display_name": "Python 3"
    },
    "accelerator": "GPU"
  },
  "cells": [
    {
      "metadata": {
        "id": "qcLoALzfr-JE",
        "colab_type": "text"
      },
      "cell_type": "markdown",
      "source": [
        "# ADL HW3 Part II"
      ]
    },
    {
      "metadata": {
        "id": "q0L_R028r-JF",
        "colab_type": "text"
      },
      "cell_type": "markdown",
      "source": [
        "### Get the Data"
      ]
    },
    {
      "metadata": {
        "id": "08EZd9_jr-JI",
        "colab_type": "code",
        "colab": {
          "base_uri": "https://localhost:8080/",
          "height": 88
        },
        "outputId": "f17c7923-4898-4298-8368-89930c9cf0cc"
      },
      "cell_type": "code",
      "source": [
        "import pathlib\n",
        "import os\n",
        "from PIL import Image\n",
        "import numpy as np\n",
        "import collections\n",
        "import random\n",
        "import tensorflow as tf\n",
        "from keras import models\n",
        "from keras import layers\n",
        "from keras import optimizers\n",
        "from keras.applications.vgg16 import VGG16\n",
        "from keras.applications.inception_v3 import InceptionV3\n",
        "from sklearn import preprocessing\n",
        "from sklearn.cross_validation import train_test_split"
      ],
      "execution_count": 1,
      "outputs": [
        {
          "output_type": "stream",
          "text": [
            "Using TensorFlow backend.\n",
            "/usr/local/lib/python3.6/dist-packages/sklearn/cross_validation.py:41: DeprecationWarning: This module was deprecated in version 0.18 in favor of the model_selection module into which all the refactored classes and functions are moved. Also note that the interface of the new CV iterators are different from that of this module. This module will be removed in 0.20.\n",
            "  \"This module will be removed in 0.20.\", DeprecationWarning)\n"
          ],
          "name": "stderr"
        }
      ]
    },
    {
      "metadata": {
        "id": "z7W2NjoGr-JO",
        "colab_type": "code",
        "colab": {
          "base_uri": "https://localhost:8080/",
          "height": 85
        },
        "outputId": "b540b31a-3295-444a-dc8c-7c5abbdb7951"
      },
      "cell_type": "code",
      "source": [
        "!cd ~\n",
        "!curl -O http://download.tensorflow.org/example_images/flower_photos.tgz\n",
        "!tar xzf flower_photos.tgz\n",
        "!ls"
      ],
      "execution_count": 2,
      "outputs": [
        {
          "output_type": "stream",
          "text": [
            "  % Total    % Received % Xferd  Average Speed   Time    Time     Time  Current\n",
            "                                 Dload  Upload   Total   Spent    Left  Speed\n",
            "100  218M  100  218M    0     0  53.7M      0  0:00:04  0:00:04 --:--:-- 53.7M\n",
            "flower_photos  flower_photos.tgz  sample_data\n"
          ],
          "name": "stdout"
        }
      ]
    },
    {
      "metadata": {
        "id": "wRSTI5OXr-JU",
        "colab_type": "code",
        "colab": {}
      },
      "cell_type": "code",
      "source": [
        "root_path = pathlib.Path('flower_photos')"
      ],
      "execution_count": 0,
      "outputs": []
    },
    {
      "metadata": {
        "id": "GR6skgawr-Jb",
        "colab_type": "code",
        "colab": {
          "base_uri": "https://localhost:8080/",
          "height": 34
        },
        "outputId": "155b2aae-ae5e-4064-8564-38bfd28c685d"
      },
      "cell_type": "code",
      "source": [
        "os.listdir('flower_photos/')"
      ],
      "execution_count": 4,
      "outputs": [
        {
          "output_type": "execute_result",
          "data": {
            "text/plain": [
              "['roses', 'dandelion', 'tulips', 'sunflowers', 'LICENSE.txt', 'daisy']"
            ]
          },
          "metadata": {
            "tags": []
          },
          "execution_count": 4
        }
      ]
    },
    {
      "metadata": {
        "id": "0tHsC9Z6r-Ji",
        "colab_type": "code",
        "colab": {
          "base_uri": "https://localhost:8080/",
          "height": 119
        },
        "outputId": "4cc34589-9f00-40dd-dc8b-44708aecc404"
      },
      "cell_type": "code",
      "source": [
        "for item in root_path.iterdir():\n",
        "    print(item)"
      ],
      "execution_count": 5,
      "outputs": [
        {
          "output_type": "stream",
          "text": [
            "flower_photos/roses\n",
            "flower_photos/dandelion\n",
            "flower_photos/tulips\n",
            "flower_photos/sunflowers\n",
            "flower_photos/LICENSE.txt\n",
            "flower_photos/daisy\n"
          ],
          "name": "stdout"
        }
      ]
    },
    {
      "metadata": {
        "id": "ZsHWEDFUr-Jp",
        "colab_type": "code",
        "colab": {
          "base_uri": "https://localhost:8080/",
          "height": 34
        },
        "outputId": "9921317c-0d53-424c-f10c-4809203e56a4"
      },
      "cell_type": "code",
      "source": [
        "all_paths = list(root_path.glob('*/*'))\n",
        "all_paths = [str(path) for path in all_paths]\n",
        "random.shuffle(all_paths)\n",
        "\n",
        "len(all_paths)"
      ],
      "execution_count": 6,
      "outputs": [
        {
          "output_type": "execute_result",
          "data": {
            "text/plain": [
              "3670"
            ]
          },
          "metadata": {
            "tags": []
          },
          "execution_count": 6
        }
      ]
    },
    {
      "metadata": {
        "id": "H7tvYIDLr-Jw",
        "colab_type": "text"
      },
      "cell_type": "markdown",
      "source": [
        "### Read all JPG files"
      ]
    },
    {
      "metadata": {
        "id": "ku6z31KDr-Jy",
        "colab_type": "code",
        "colab": {}
      },
      "cell_type": "code",
      "source": [
        "def load_and_resize_image(path):\n",
        "    images = []\n",
        "    for i in path:\n",
        "        img = Image.open(i)\n",
        "        resized_img = img.resize((200,200),Image.ANTIALIAS)\n",
        "        if resized_img is not None: \n",
        "            images.append(np.array(resized_img)/255)\n",
        "    return images"
      ],
      "execution_count": 0,
      "outputs": []
    },
    {
      "metadata": {
        "id": "qnApsGA_r-J3",
        "colab_type": "code",
        "colab": {}
      },
      "cell_type": "code",
      "source": [
        "samples = load_and_resize_image(all_paths)"
      ],
      "execution_count": 0,
      "outputs": []
    },
    {
      "metadata": {
        "id": "RplkfdVBr-J9",
        "colab_type": "code",
        "colab": {}
      },
      "cell_type": "code",
      "source": [
        "samples = np.asarray(samples)"
      ],
      "execution_count": 0,
      "outputs": []
    },
    {
      "metadata": {
        "id": "sBgflNL0r-J_",
        "colab_type": "code",
        "colab": {
          "base_uri": "https://localhost:8080/",
          "height": 51
        },
        "outputId": "1c09bd14-1ad1-4235-9a19-1c782874ba18"
      },
      "cell_type": "code",
      "source": [
        "# Investigate Image Shape\n",
        "print(samples.shape)\n",
        "print(samples.dtype)"
      ],
      "execution_count": 10,
      "outputs": [
        {
          "output_type": "stream",
          "text": [
            "(3670, 200, 200, 3)\n",
            "float64\n"
          ],
          "name": "stdout"
        }
      ]
    },
    {
      "metadata": {
        "collapsed": false,
        "id": "cmcHKdIsr-KG",
        "colab_type": "text"
      },
      "cell_type": "markdown",
      "source": [
        "### Determine Label Names"
      ]
    },
    {
      "metadata": {
        "id": "0g0OiSLWr-KI",
        "colab_type": "code",
        "colab": {
          "base_uri": "https://localhost:8080/",
          "height": 34
        },
        "outputId": "067001d2-099a-40b6-b72e-284e179e8523"
      },
      "cell_type": "code",
      "source": [
        "label_names = sorted(item.name for item in root_path.glob('*/') if item.is_dir())\n",
        "print(label_names)"
      ],
      "execution_count": 11,
      "outputs": [
        {
          "output_type": "stream",
          "text": [
            "['daisy', 'dandelion', 'roses', 'sunflowers', 'tulips']\n"
          ],
          "name": "stdout"
        }
      ]
    },
    {
      "metadata": {
        "id": "hRPgoetCr-KN",
        "colab_type": "code",
        "colab": {
          "base_uri": "https://localhost:8080/",
          "height": 34
        },
        "outputId": "78ab7dc8-9ef9-4d3e-a114-7592236eee1e"
      },
      "cell_type": "code",
      "source": [
        "label = preprocessing.LabelEncoder()\n",
        "label.fit(label_names)"
      ],
      "execution_count": 12,
      "outputs": [
        {
          "output_type": "execute_result",
          "data": {
            "text/plain": [
              "LabelEncoder()"
            ]
          },
          "metadata": {
            "tags": []
          },
          "execution_count": 12
        }
      ]
    },
    {
      "metadata": {
        "id": "EK41pNCvu3ZH",
        "colab_type": "code",
        "colab": {
          "base_uri": "https://localhost:8080/",
          "height": 51
        },
        "outputId": "c34b5f4b-ecd2-4a4f-8599-170ffee8113b"
      },
      "cell_type": "code",
      "source": [
        "label.classes_"
      ],
      "execution_count": 13,
      "outputs": [
        {
          "output_type": "execute_result",
          "data": {
            "text/plain": [
              "array(['daisy', 'dandelion', 'roses', 'sunflowers', 'tulips'],\n",
              "      dtype='<U10')"
            ]
          },
          "metadata": {
            "tags": []
          },
          "execution_count": 13
        }
      ]
    },
    {
      "metadata": {
        "id": "wNLyZ9Adr-KS",
        "colab_type": "text"
      },
      "cell_type": "markdown",
      "source": [
        "### Transform Labels to Numbers"
      ]
    },
    {
      "metadata": {
        "id": "jf48N3jPtw9n",
        "colab_type": "code",
        "colab": {}
      },
      "cell_type": "code",
      "source": [
        "all_label_names = [pathlib.Path(path).parent.name for path in all_paths]"
      ],
      "execution_count": 0,
      "outputs": []
    },
    {
      "metadata": {
        "id": "uYvlz9V7uY8V",
        "colab_type": "code",
        "colab": {}
      },
      "cell_type": "code",
      "source": [
        "all_image_labels = label.transform(all_label_names)"
      ],
      "execution_count": 0,
      "outputs": []
    },
    {
      "metadata": {
        "id": "f2QiHWBPtD9k",
        "colab_type": "code",
        "colab": {
          "base_uri": "https://localhost:8080/",
          "height": 34
        },
        "outputId": "1b61c76e-b6ff-4397-8528-2b6a59fafa29"
      },
      "cell_type": "code",
      "source": [
        "all_image_labels"
      ],
      "execution_count": 16,
      "outputs": [
        {
          "output_type": "execute_result",
          "data": {
            "text/plain": [
              "array([4, 1, 0, ..., 1, 0, 1])"
            ]
          },
          "metadata": {
            "tags": []
          },
          "execution_count": 16
        }
      ]
    },
    {
      "metadata": {
        "id": "XNqlTBOqr-Ke",
        "colab_type": "text"
      },
      "cell_type": "markdown",
      "source": [
        "### Spliting Training and Testing Data"
      ]
    },
    {
      "metadata": {
        "id": "jEMrlInKr-Kf",
        "colab_type": "code",
        "colab": {}
      },
      "cell_type": "code",
      "source": [
        "X_train, X_test, y_train, y_test = train_test_split(samples, all_image_labels, test_size=0.2)"
      ],
      "execution_count": 0,
      "outputs": []
    },
    {
      "metadata": {
        "id": "TfbzlO3hr-Kj",
        "colab_type": "code",
        "colab": {
          "base_uri": "https://localhost:8080/",
          "height": 85
        },
        "outputId": "04563947-ee8e-4cb1-d5e4-bc92e549c73c"
      },
      "cell_type": "code",
      "source": [
        "print(X_train.shape)\n",
        "print(X_test.shape)\n",
        "print(y_train.shape)\n",
        "print(y_test.shape)"
      ],
      "execution_count": 18,
      "outputs": [
        {
          "output_type": "stream",
          "text": [
            "(2936, 200, 200, 3)\n",
            "(734, 200, 200, 3)\n",
            "(2936,)\n",
            "(734,)\n"
          ],
          "name": "stdout"
        }
      ]
    },
    {
      "metadata": {
        "id": "1JXdHMQ_r-Kq",
        "colab_type": "text"
      },
      "cell_type": "markdown",
      "source": [
        "### Build Model with InceptionV3"
      ]
    },
    {
      "metadata": {
        "id": "hORucaVfr-Ks",
        "colab_type": "code",
        "colab": {}
      },
      "cell_type": "code",
      "source": [
        "model = models.Sequential()\n",
        "model.add(InceptionV3(weights='imagenet', include_top=False, input_shape = (200,200,3)))\n",
        "model.add(layers.Flatten())\n",
        "model.add(layers.Dense(128, activation = 'relu'))\n",
        "model.add(layers.Dropout(0.5))\n",
        "model.add(layers.Dense(128, activation = 'relu'))\n",
        "model.add(layers.Dropout(0.5))\n",
        "model.add(layers.Dense(5, activation = 'softmax'))"
      ],
      "execution_count": 0,
      "outputs": []
    },
    {
      "metadata": {
        "id": "9xatxEzPr-Kx",
        "colab_type": "code",
        "colab": {
          "base_uri": "https://localhost:8080/",
          "height": 374
        },
        "outputId": "bb8a7f48-bac3-45ef-88a9-bb2f433d7597"
      },
      "cell_type": "code",
      "source": [
        "model.compile(loss = 'sparse_categorical_crossentropy', optimizer = optimizers.RMSprop(lr = 0.0001), metrics = ['acc'])\n",
        "model.summary()"
      ],
      "execution_count": 48,
      "outputs": [
        {
          "output_type": "stream",
          "text": [
            "_________________________________________________________________\n",
            "Layer (type)                 Output Shape              Param #   \n",
            "=================================================================\n",
            "inception_v3 (Model)         (None, 4, 4, 2048)        21802784  \n",
            "_________________________________________________________________\n",
            "flatten_5 (Flatten)          (None, 32768)             0         \n",
            "_________________________________________________________________\n",
            "dense_12 (Dense)             (None, 128)               4194432   \n",
            "_________________________________________________________________\n",
            "dropout_8 (Dropout)          (None, 128)               0         \n",
            "_________________________________________________________________\n",
            "dense_13 (Dense)             (None, 128)               16512     \n",
            "_________________________________________________________________\n",
            "dropout_9 (Dropout)          (None, 128)               0         \n",
            "_________________________________________________________________\n",
            "dense_14 (Dense)             (None, 5)                 645       \n",
            "=================================================================\n",
            "Total params: 26,014,373\n",
            "Trainable params: 25,979,941\n",
            "Non-trainable params: 34,432\n",
            "_________________________________________________________________\n"
          ],
          "name": "stdout"
        }
      ]
    },
    {
      "metadata": {
        "id": "YjGETCHir-K2",
        "colab_type": "code",
        "colab": {
          "base_uri": "https://localhost:8080/",
          "height": 204
        },
        "outputId": "8c6de63e-494b-4f93-dc33-67aabe47ec93"
      },
      "cell_type": "code",
      "source": [
        "history = model.fit(X_train, y_train, epochs = 5, batch_size = 32, validation_split = 0.2)"
      ],
      "execution_count": 49,
      "outputs": [
        {
          "output_type": "stream",
          "text": [
            "Train on 2348 samples, validate on 588 samples\n",
            "Epoch 1/5\n",
            "2348/2348 [==============================] - 88s 37ms/step - loss: 1.4914 - acc: 0.3897 - val_loss: 0.6539 - val_acc: 0.7908\n",
            "Epoch 2/5\n",
            "2348/2348 [==============================] - 46s 19ms/step - loss: 0.8307 - acc: 0.6874 - val_loss: 0.4999 - val_acc: 0.8333\n",
            "Epoch 3/5\n",
            "2348/2348 [==============================] - 46s 19ms/step - loss: 0.5496 - acc: 0.8058 - val_loss: 0.5202 - val_acc: 0.8776\n",
            "Epoch 4/5\n",
            "2348/2348 [==============================] - 46s 19ms/step - loss: 0.3620 - acc: 0.8786 - val_loss: 0.6026 - val_acc: 0.8844\n",
            "Epoch 5/5\n",
            "2348/2348 [==============================] - 46s 19ms/step - loss: 0.2464 - acc: 0.9199 - val_loss: 0.6653 - val_acc: 0.9065\n"
          ],
          "name": "stdout"
        }
      ]
    },
    {
      "metadata": {
        "id": "GeAbCHMRCIjf",
        "colab_type": "text"
      },
      "cell_type": "markdown",
      "source": [
        "## **Evaluating on Test Set**"
      ]
    },
    {
      "metadata": {
        "id": "JYaHFseur-K9",
        "colab_type": "code",
        "colab": {
          "base_uri": "https://localhost:8080/",
          "height": 51
        },
        "outputId": "1255e1a9-63ce-4230-9ba9-97e113142178"
      },
      "cell_type": "code",
      "source": [
        "model.evaluate(X_test, y_test)"
      ],
      "execution_count": 50,
      "outputs": [
        {
          "output_type": "stream",
          "text": [
            "734/734 [==============================] - 4s 5ms/step\n"
          ],
          "name": "stdout"
        },
        {
          "output_type": "execute_result",
          "data": {
            "text/plain": [
              "[0.6310683301261725, 0.8950953667105381]"
            ]
          },
          "metadata": {
            "tags": []
          },
          "execution_count": 50
        }
      ]
    },
    {
      "metadata": {
        "id": "6E11UP6CCT6S",
        "colab_type": "text"
      },
      "cell_type": "markdown",
      "source": [
        "## **Make 5 Predictions Based on the First 5 Test Samples**"
      ]
    },
    {
      "metadata": {
        "id": "U4REzHysr-K_",
        "colab_type": "code",
        "colab": {}
      },
      "cell_type": "code",
      "source": [
        "predict_samples = X_test[:10]"
      ],
      "execution_count": 0,
      "outputs": []
    },
    {
      "metadata": {
        "id": "64fGLuYa_pmb",
        "colab_type": "code",
        "colab": {}
      },
      "cell_type": "code",
      "source": [
        "predictions = model.predict_classes(predict_samples)"
      ],
      "execution_count": 0,
      "outputs": []
    },
    {
      "metadata": {
        "id": "xgQkaJxW_r05",
        "colab_type": "code",
        "colab": {
          "base_uri": "https://localhost:8080/",
          "height": 241
        },
        "outputId": "ab6b8964-e8e5-4c93-f665-0a9f4afd8baf"
      },
      "cell_type": "code",
      "source": [
        "list(label.inverse_transform(predictions))"
      ],
      "execution_count": 58,
      "outputs": [
        {
          "output_type": "stream",
          "text": [
            "/usr/local/lib/python3.6/dist-packages/sklearn/preprocessing/label.py:151: DeprecationWarning: The truth value of an empty array is ambiguous. Returning False, but in future this will result in an error. Use `array.size > 0` to check that an array is not empty.\n",
            "  if diff:\n"
          ],
          "name": "stderr"
        },
        {
          "output_type": "execute_result",
          "data": {
            "text/plain": [
              "['daisy',\n",
              " 'daisy',\n",
              " 'sunflowers',\n",
              " 'daisy',\n",
              " 'daisy',\n",
              " 'tulips',\n",
              " 'tulips',\n",
              " 'roses',\n",
              " 'daisy',\n",
              " 'dandelion']"
            ]
          },
          "metadata": {
            "tags": []
          },
          "execution_count": 58
        }
      ]
    },
    {
      "metadata": {
        "id": "mrbf9lsVC_CA",
        "colab_type": "text"
      },
      "cell_type": "markdown",
      "source": [
        "## **Ground Truth Labels for the First 5 Samples**"
      ]
    },
    {
      "metadata": {
        "id": "RD_vFYAfAtlM",
        "colab_type": "code",
        "colab": {
          "base_uri": "https://localhost:8080/",
          "height": 241
        },
        "outputId": "0840466f-5df2-4733-ff37-d9900dbfb05b"
      },
      "cell_type": "code",
      "source": [
        "list(label.inverse_transform(y_test[:10]))"
      ],
      "execution_count": 59,
      "outputs": [
        {
          "output_type": "stream",
          "text": [
            "/usr/local/lib/python3.6/dist-packages/sklearn/preprocessing/label.py:151: DeprecationWarning: The truth value of an empty array is ambiguous. Returning False, but in future this will result in an error. Use `array.size > 0` to check that an array is not empty.\n",
            "  if diff:\n"
          ],
          "name": "stderr"
        },
        {
          "output_type": "execute_result",
          "data": {
            "text/plain": [
              "['daisy',\n",
              " 'daisy',\n",
              " 'sunflowers',\n",
              " 'daisy',\n",
              " 'daisy',\n",
              " 'tulips',\n",
              " 'tulips',\n",
              " 'roses',\n",
              " 'daisy',\n",
              " 'dandelion']"
            ]
          },
          "metadata": {
            "tags": []
          },
          "execution_count": 59
        }
      ]
    },
    {
      "metadata": {
        "id": "ayln-OSyw8_d",
        "colab_type": "code",
        "colab": {
          "base_uri": "https://localhost:8080/",
          "height": 707
        },
        "outputId": "a795eadc-58f1-4be0-ef05-caede40f4512"
      },
      "cell_type": "code",
      "source": [
        "import matplotlib.pyplot as plt\n",
        "\n",
        "acc = history.history['acc']\n",
        "val_acc = history.history['val_acc']\n",
        "loss = history.history['loss']\n",
        "val_loss = history.history['val_loss']\n",
        "\n",
        "epochs = range(len(acc))\n",
        "\n",
        "plt.plot(epochs, acc, 'bo', label='Training acc')\n",
        "plt.plot(epochs, val_acc, 'b', label='Validation acc')\n",
        "plt.title('Training and validation accuracy')\n",
        "plt.legend()\n",
        "\n",
        "plt.figure()\n",
        "\n",
        "plt.plot(epochs, loss, 'bo', label='Training loss')\n",
        "plt.plot(epochs, val_loss, 'b', label='Validation loss')\n",
        "plt.title('Training and validation loss')\n",
        "plt.legend()\n",
        "\n",
        "plt.show()\n"
      ],
      "execution_count": 55,
      "outputs": [
        {
          "output_type": "display_data",
          "data": {
            "image/png": "[encoded data removed]",
            "text/plain": [
              "<matplotlib.figure.Figure at 0x7f0f443822b0>"
            ]
          },
          "metadata": {
            "tags": []
          }
        },
        {
          "output_type": "display_data",
          "data": {
            "image/png": "[encoded data removed]",
            "text/plain": [
              "<matplotlib.figure.Figure at 0x7f0f442cab70>"
            ]
          },
          "metadata": {
            "tags": []
          }
        }
      ]
    },
    {
      "metadata": {
        "id": "ZWVRBrmsEZqK",
        "colab_type": "text"
      },
      "cell_type": "markdown",
      "source": [
        "# **Evaluation**"
      ]
    },
    {
      "metadata": {
        "id": "NqwuEo71ESla",
        "colab_type": "text"
      },
      "cell_type": "markdown",
      "source": [
        "### **As we can see, our model has reach a test score of 0.88 with loss score to be 0.62. **\n",
        "### Predictions: our model has successfully made all 10 correct predictions. "
      ]
    }
  ]
}